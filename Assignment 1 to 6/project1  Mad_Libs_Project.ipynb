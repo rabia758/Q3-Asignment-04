{
  "nbformat": 4,
  "nbformat_minor": 0,
  "metadata": {
    "colab": {
      "provenance": []
    },
    "kernelspec": {
      "name": "python3",
      "display_name": "Python 3"
    },
    "language_info": {
      "name": "python"
    }
  },
  "cells": [
    {
      "cell_type": "code",
      "execution_count": null,
      "metadata": {
        "colab": {
          "base_uri": "https://localhost:8080/"
        },
        "id": "BMwEyOjD3BMp",
        "outputId": "13f1f4f9-83b3-4873-816e-ce939d8989bc"
      },
      "outputs": [
        {
          "output_type": "stream",
          "name": "stdout",
          "text": [
            "🦄 Welcome to the Enchanted Kingdom!\n",
            "✨ Fill in the blanks to create your own magical adventure!\n",
            "\n",
            "Enter the name of the hero: yug\n",
            "Enter a magical creature (e.g., dragon, unicorn): gyu\n",
            "Enter a mystical place: gyu\n",
            "Enter a special power (e.g., invisibility, time travel): hi\n",
            "Enter the name of a villain: t\n",
            "Enter a powerful treasure (e.g., crystal orb, golden sword): g\n",
            "\n",
            "==================================================\n",
            "\n",
            "Deep in the heart of gyu, a young hero named yug discovered a hidden secret.  \n",
            "A gyu appeared and granted yug the power of **hi**!  \n",
            "\n",
            "But all was not well—t sought to steal the legendary g!  \n",
            "With courage and wit, yug outsmarted t and claimed the g for the good of the land.  \n",
            "\n",
            "From that day forward, the tale of yug echoed through time, inspiring all who dreamed of magic and adventure. ✨\n",
            "\n",
            "==================================================\n",
            "\n"
          ]
        }
      ],
      "source": [
        "print(\"🦄 Welcome to the Enchanted Kingdom!\")\n",
        "print(\"✨ Fill in the blanks to create your own magical adventure!\\n\")\n",
        "\n",
        "# Input prompts\n",
        "hero = input(\"Enter the name of the hero: \")\n",
        "magic_creature = input(\"Enter a magical creature (e.g., dragon, unicorn): \")\n",
        "mystic_place = input(\"Enter a mystical place: \")\n",
        "special_power = input(\"Enter a special power (e.g., invisibility, time travel): \")\n",
        "villain = input(\"Enter the name of a villain: \")\n",
        "treasure = input(\"Enter a powerful treasure (e.g., crystal orb, golden sword): \")\n",
        "\n",
        "# Short and engaging story\n",
        "story = f\"\"\"\n",
        "Deep in the heart of {mystic_place}, a young hero named {hero} discovered a hidden secret.\n",
        "A {magic_creature} appeared and granted {hero} the power of **{special_power}**!\n",
        "\n",
        "But all was not well—{villain} sought to steal the legendary {treasure}!\n",
        "With courage and wit, {hero} outsmarted {villain} and claimed the {treasure} for the good of the land.\n",
        "\n",
        "From that day forward, the tale of {hero} echoed through time, inspiring all who dreamed of magic and adventure. ✨\n",
        "\"\"\"\n",
        "\n",
        "print(\"\\n\" + \"=\"*50)\n",
        "print(story)\n",
        "print(\"=\"*50 + \"\\n\")\n"
      ]
    }
  ]
}