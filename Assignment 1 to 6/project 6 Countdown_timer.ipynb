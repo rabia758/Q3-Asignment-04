{
  "nbformat": 4,
  "nbformat_minor": 0,
  "metadata": {
    "colab": {
      "provenance": []
    },
    "kernelspec": {
      "name": "python3",
      "display_name": "Python 3"
    },
    "language_info": {
      "name": "python"
    }
  },
  "cells": [
    {
      "cell_type": "markdown",
      "source": [
        "# **Countdown Timer Python project**"
      ],
      "metadata": {
        "id": "Afc3eaNLsk0f"
      }
    },
    {
      "cell_type": "markdown",
      "source": [],
      "metadata": {
        "id": "uO7J1vjBo9sM"
      }
    },
    {
      "cell_type": "code",
      "execution_count": null,
      "metadata": {
        "colab": {
          "base_uri": "https://localhost:8080/"
        },
        "id": "w3o_dfUisgXX",
        "outputId": "10e3f17e-b9ce-4297-b5ef-fdcc5230ed87"
      },
      "outputs": [
        {
          "output_type": "stream",
          "name": "stdout",
          "text": [
            "Enter A time In seconds:⏲ 4\n",
            "countdown start now!\n",
            "00:00:04\n",
            "00:00:03\n",
            "00:00:02\n",
            "00:00:01\n",
            "Time's up! 🎉🎉\n"
          ]
        }
      ],
      "source": [
        "import time\n",
        "my_time = int(input(\"Enter A time In seconds:⏲ \"))\n",
        "print(\"countdown start now!\")\n",
        "\n",
        "for x in range(my_time, 0, -1):\n",
        "   secs = x % 60\n",
        "   min = int(x / 60) % 60\n",
        "   hours = int(x / (60 * 60))\n",
        "   print(f\"{hours:02}:{min:02}:{secs:02}\")\n",
        "\n",
        "   time.sleep(2)\n",
        "print(\"Time's up! 🎉🎉\")"
      ]
    }
  ]
}