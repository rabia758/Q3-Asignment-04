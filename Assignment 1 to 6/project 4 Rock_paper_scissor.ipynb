{
  "nbformat": 4,
  "nbformat_minor": 0,
  "metadata": {
    "colab": {
      "provenance": []
    },
    "kernelspec": {
      "name": "python3",
      "display_name": "Python 3"
    },
    "language_info": {
      "name": "python"
    }
  },
  "cells": [
    {
      "cell_type": "markdown",
      "source": [
        "# **Rock Paper Sessior Game**"
      ],
      "metadata": {
        "id": "Cm1WCoul8BLH"
      }
    },
    {
      "cell_type": "code",
      "execution_count": null,
      "metadata": {
        "colab": {
          "base_uri": "https://localhost:8080/"
        },
        "id": "h2kaSTLQ14gl",
        "outputId": "93bea8cc-2dfa-4ea9-a08d-1bc6b9346686"
      },
      "outputs": [
        {
          "output_type": "stream",
          "name": "stdout",
          "text": [
            "What's your choice? : Rock, Paper, Scissors: rock\n",
            "You chose: Rock\n",
            "Computer chose: Scissors\n",
            "You win 🎉\n"
          ]
        }
      ],
      "source": [
        "import random\n",
        "\n",
        "def play():\n",
        "    user = input(\"What's your choice? : Rock, Paper, Scissors: \").strip().capitalize()\n",
        "    computer = random.choice([\"Rock\", \"Paper\", \"Scissors\"])\n",
        "\n",
        "    print(f\"You chose: {user}\")\n",
        "    print(f\"Computer chose: {computer}\")\n",
        "\n",
        "    if user == computer:\n",
        "        return \"It's a Tie ⚠\"\n",
        "    if is_win(user, computer):\n",
        "        return \"You win 🎉\"\n",
        "    return \"You lost 😒\"\n",
        "\n",
        "def is_win(player, opponent):\n",
        "    if (player == \"Rock\" and opponent == \"Scissors\") or \\\n",
        "       (player == \"Scissors\" and opponent == \"Paper\") or \\\n",
        "       (player == \"Paper\" and opponent == \"Rock\"):\n",
        "        return True\n",
        "    return False\n",
        "\n",
        "# Example usage\n",
        "print(play())"
      ]
    }
  ]
}