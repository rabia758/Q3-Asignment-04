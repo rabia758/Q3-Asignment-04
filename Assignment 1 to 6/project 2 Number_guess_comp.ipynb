{
  "nbformat": 4,
  "nbformat_minor": 0,
  "metadata": {
    "colab": {
      "provenance": []
    },
    "kernelspec": {
      "name": "python3",
      "display_name": "Python 3"
    },
    "language_info": {
      "name": "python"
    }
  },
  "cells": [
    {
      "cell_type": "markdown",
      "source": [
        "# ***Guess The Number game project (Computer)***"
      ],
      "metadata": {
        "id": "JH8bo6B-iB__"
      }
    },
    {
      "cell_type": "code",
      "execution_count": null,
      "metadata": {
        "colab": {
          "base_uri": "https://localhost:8080/"
        },
        "id": "Ghy2s6r2dWGs",
        "outputId": "14a4dd82-0fbd-4edb-eac8-1b56c78cd5bc"
      },
      "outputs": [
        {
          "output_type": "stream",
          "name": "stdout",
          "text": [
            "Guess a number between 1 and {x} :3\n",
            "sorry! guess again , Too low!\n",
            "Guess a number between 1 and {x} :6\n",
            "sorry! guess again , Too low!\n",
            "Guess a number between 1 and {x} :8\n",
            "sorry! guess again , Too low!\n",
            "Guess a number between 1 and {x} :9\n",
            "Yah! congrats 🎉 You have guessed the number 9 correctly ✅\n"
          ]
        }
      ],
      "source": [
        "import random\n",
        "def guess(x):\n",
        "  random_number = random.randint(1,x)\n",
        "  guess = 0\n",
        "  while guess != random_number:\n",
        "    guess = int(input(\"Guess a number between 1 and {x} :\"))\n",
        "    if guess < random_number:\n",
        "      print (\"sorry! guess again , Too low!\")\n",
        "    elif guess > random_number:\n",
        "        print(\"Sorry! guess again. Too high!\")\n",
        "  print(f\"Yah! congrats 🎉 You have guessed the number {random_number} correctly ✅\")\n",
        "\n",
        "guess(10)\n",
        "\n",
        "\n"
      ]
    }
  ]
}