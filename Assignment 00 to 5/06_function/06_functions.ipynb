{
  "nbformat": 4,
  "nbformat_minor": 0,
  "metadata": {
    "colab": {
      "provenance": []
    },
    "kernelspec": {
      "name": "python3",
      "display_name": "Python 3"
    },
    "language_info": {
      "name": "python"
    }
  },
  "cells": [
    {
      "cell_type": "markdown",
      "source": [
        "# ***00_averages***"
      ],
      "metadata": {
        "id": "EWk0HbteSIxB"
      }
    },
    {
      "cell_type": "code",
      "execution_count": 2,
      "metadata": {
        "colab": {
          "base_uri": "https://localhost:8080/"
        },
        "id": "s_zGqCGVRXdl",
        "outputId": "ff25ce35-197a-4c4d-e24f-4dfe54815180"
      },
      "outputs": [
        {
          "output_type": "stream",
          "name": "stdout",
          "text": [
            "00_averages\n",
            "avg_1 5.0\n",
            "avg_2 9.0\n",
            "final 7.0\n"
          ]
        }
      ],
      "source": [
        "print(\"00_averages\")\n",
        "def average(a: float, b: float):\n",
        "    \"\"\"\n",
        "    Returns the number which is half way between a and b\n",
        "    \"\"\"\n",
        "    sum = a + b\n",
        "    return sum / 2\n",
        "\n",
        "def main():\n",
        "    avg_1 = average(0, 10)\n",
        "    avg_2 = average(8, 10)\n",
        "\n",
        "    final = average(avg_1, avg_2)\n",
        "    print(\"avg_1\", avg_1)\n",
        "    print(\"avg_2\", avg_2)\n",
        "    print(\"final\", final)\n",
        "\n",
        "if __name__ == '__main__':\n",
        "    main()"
      ]
    },
    {
      "cell_type": "markdown",
      "source": [
        "# ***01_chaotic_counting***"
      ],
      "metadata": {
        "id": "RRHTcCFFSqFt"
      }
    },
    {
      "cell_type": "code",
      "source": [
        "import random\n",
        "print(\"01_chaotic_counting\")\n",
        "DONE_LIKELIHOOD = 0.2\n",
        "def chaotic_counting():\n",
        "    for i in range(10):\n",
        "        curr_num = i + 1\n",
        "        if done():\n",
        "          print(f\"Stopped early at {curr_num}\")\n",
        "          return\n",
        "        print(curr_num)\n",
        "\n",
        "def done():\n",
        "    \"\"\" Returns True with a probability of DONE_LIKELIHOOD \"\"\"\n",
        "    if random.random() < DONE_LIKELIHOOD:\n",
        "        return True\n",
        "    return False\n",
        "\n",
        "def main():\n",
        "    print(\"I'm going to count until 10 or until I feel like stopping, whichever comes first.\")\n",
        "    chaotic_counting()\n",
        "    print(\"I'm done\")\n",
        "\n",
        "if __name__ == \"__main__\":\n",
        "    main()\n"
      ],
      "metadata": {
        "colab": {
          "base_uri": "https://localhost:8080/"
        },
        "id": "J-oDUw5zSqp9",
        "outputId": "3dd7dd1b-4d0b-4716-b277-ef023169997c"
      },
      "execution_count": 9,
      "outputs": [
        {
          "output_type": "stream",
          "name": "stdout",
          "text": [
            "01_chaotic_counting\n",
            "I'm going to count until 10 or until I feel like stopping, whichever comes first.\n",
            "1\n",
            "2\n",
            "3\n",
            "4\n",
            "5\n",
            "6\n",
            "7\n",
            "Stopped early at 8\n",
            "I'm done\n"
          ]
        }
      ]
    },
    {
      "cell_type": "markdown",
      "source": [
        "# ***02_count_even***"
      ],
      "metadata": {
        "id": "Pg5dDxyJUnbL"
      }
    },
    {
      "cell_type": "code",
      "source": [
        "print(\"02_count_even\")\n",
        "\n",
        "def count_even(numbers):\n",
        "    \"\"\"Count and print the number of even numbers in a list\"\"\"\n",
        "    count = 0\n",
        "    for num in numbers:\n",
        "        if num % 2 == 0:\n",
        "            count += 1\n",
        "    print(f\"Number of even numbers: {count}\")\n",
        "\n",
        "def get_numbers():\n",
        "    \"\"\"Get numbers from user until empty input is received\"\"\"\n",
        "    numbers = []\n",
        "    while True:\n",
        "        user_input = input(\"Enter an integer or press enter to stop: \")\n",
        "        if user_input == \"\":\n",
        "            break\n",
        "        try:\n",
        "            numbers.append(int(user_input))\n",
        "        except ValueError:\n",
        "            print(\"Please enter a valid integer or press enter to stop\")\n",
        "    return numbers\n",
        "\n",
        "def main():\n",
        "    numbers = get_numbers()\n",
        "    count_even(numbers)\n",
        "\n",
        "if __name__ == \"__main__\":\n",
        "    main()\n"
      ],
      "metadata": {
        "colab": {
          "base_uri": "https://localhost:8080/"
        },
        "id": "-hpxkLE0Um-s",
        "outputId": "003d0942-7abb-45af-a0fa-e931371c2b1b"
      },
      "execution_count": 15,
      "outputs": [
        {
          "output_type": "stream",
          "name": "stdout",
          "text": [
            "02_count_even\n",
            "Enter an integer or press enter to stop: 2\n",
            "Enter an integer or press enter to stop: 4\n",
            "Enter an integer or press enter to stop: 6\n",
            "Enter an integer or press enter to stop: 8\n",
            "Enter an integer or press enter to stop: 5\n",
            "Enter an integer or press enter to stop: \n",
            "Number of even numbers: 4\n"
          ]
        }
      ]
    },
    {
      "cell_type": "markdown",
      "source": [
        "# ***04_double***"
      ],
      "metadata": {
        "id": "_38XTSbnYQ6O"
      }
    },
    {
      "cell_type": "code",
      "source": [
        "from IPython.display import display, HTML\n",
        "\n",
        "print(\"04_double\")\n",
        "\n",
        "def double(num: int):\n",
        "    return num * 2\n",
        "\n",
        "def main():\n",
        "    # Display bold italic input prompt\n",
        "    display(HTML('<span style=\"font-weight: bold; font-style: italic\">Enter a number: </span>'))\n",
        "\n",
        "    # Get user input\n",
        "    num = int(input())\n",
        "\n",
        "    # Calculate result\n",
        "    num_times_2 = double(num)\n",
        "\n",
        "    # Display bold italic input confirmation\n",
        "    display(HTML(f'<span style=\"font-weight: bold; font-style: italic\">You entered: {num}</span>'))\n",
        "    print(\"Double that is\", num_times_2)\n",
        "\n",
        "if __name__ == '__main__':\n",
        "    main()"
      ],
      "metadata": {
        "colab": {
          "base_uri": "https://localhost:8080/",
          "height": 104
        },
        "id": "RB09OI4DYQmi",
        "outputId": "5569f0c3-b13b-4e80-a098-a13deac833b2"
      },
      "execution_count": 23,
      "outputs": [
        {
          "output_type": "stream",
          "name": "stdout",
          "text": [
            "04_double\n"
          ]
        },
        {
          "output_type": "display_data",
          "data": {
            "text/plain": [
              "<IPython.core.display.HTML object>"
            ],
            "text/html": [
              "<span style=\"font-weight: bold; font-style: italic\">Enter a number: </span>"
            ]
          },
          "metadata": {}
        },
        {
          "name": "stdout",
          "output_type": "stream",
          "text": [
            "4\n"
          ]
        },
        {
          "output_type": "display_data",
          "data": {
            "text/plain": [
              "<IPython.core.display.HTML object>"
            ],
            "text/html": [
              "<span style=\"font-weight: bold; font-style: italic\">You entered: 4</span>"
            ]
          },
          "metadata": {}
        },
        {
          "output_type": "stream",
          "name": "stdout",
          "text": [
            "Double that is 8\n"
          ]
        }
      ]
    },
    {
      "cell_type": "markdown",
      "source": [
        "# ***05_get_name***"
      ],
      "metadata": {
        "id": "4pcEplNeZYF9"
      }
    },
    {
      "cell_type": "code",
      "source": [
        "print(\"05_get_name\")\n",
        "def get_name():\n",
        "  return \"Rabia\"\n",
        "\n",
        "def main():\n",
        "  name = get_name()\n",
        "  print(\"Hi! how are you \", name ,\"! 👋\")\n",
        "\n",
        "if __name__ == \"__main__\":\n",
        "  main()"
      ],
      "metadata": {
        "colab": {
          "base_uri": "https://localhost:8080/"
        },
        "id": "ZwHAR_3xZXsY",
        "outputId": "3dec63c5-bd53-4cd7-f290-935190684375"
      },
      "execution_count": 25,
      "outputs": [
        {
          "output_type": "stream",
          "name": "stdout",
          "text": [
            "05_get_name\n",
            "Hi! how are you  Rabia ! 👋\n"
          ]
        }
      ]
    },
    {
      "cell_type": "markdown",
      "source": [
        "# ***06_is_odd***"
      ],
      "metadata": {
        "id": "UDxanj5laqOY"
      }
    },
    {
      "cell_type": "code",
      "source": [
        "print(\"06_is_odd\")\n",
        "def main():\n",
        "    for i in range(10):\n",
        "        if is_odd(i):\n",
        "            print(f'{i} is odd')\n",
        "        else:\n",
        "            print(f'{i} is even')\n",
        "\n",
        "def is_odd(value: int):\n",
        "    \"\"\"\n",
        "    Checks to see if a value is odd. If it is, returns true.\n",
        "    \"\"\"\n",
        "\n",
        "    remainder = value % 2\n",
        "    return remainder == 1\n",
        "\n",
        "if __name__ == '__main__':\n",
        "    main()"
      ],
      "metadata": {
        "colab": {
          "base_uri": "https://localhost:8080/"
        },
        "id": "vynXoucMap81",
        "outputId": "352b1115-985e-4683-d3dd-5a5da14ac47a"
      },
      "execution_count": 27,
      "outputs": [
        {
          "output_type": "stream",
          "name": "stdout",
          "text": [
            "06_is_odd\n",
            "0 is even\n",
            "1 is odd\n",
            "2 is even\n",
            "3 is odd\n",
            "4 is even\n",
            "5 is odd\n",
            "6 is even\n",
            "7 is odd\n",
            "8 is even\n",
            "9 is odd\n"
          ]
        }
      ]
    },
    {
      "cell_type": "markdown",
      "source": [
        "# ***07_print_divisor***"
      ],
      "metadata": {
        "id": "r9gE6m1AcDFQ"
      }
    },
    {
      "cell_type": "code",
      "source": [
        "from IPython.display import display, HTML\n",
        "\n",
        "def print_divisors(num: int):\n",
        "    \"\"\"Print all divisors of a given number\"\"\"\n",
        "    print(f\"\\nHere are the divisors of {num}:\")\n",
        "    for i in range(1, num + 1):  # More efficient range\n",
        "        if num % i == 0:\n",
        "            print(i)\n",
        "\n",
        "def main():\n",
        "    # Display blue input prompt\n",
        "    display(HTML('<span style=\"color: blue\">Enter a number: </span>'))\n",
        "\n",
        "    # Get user input\n",
        "    num = int(input())\n",
        "\n",
        "    # Display blue input confirmation\n",
        "    display(HTML(f'<span style=\"color: blue\">You entered: {num}</span>'))\n",
        "\n",
        "    print_divisors(num)\n",
        "\n",
        "if __name__ == '__main__':\n",
        "    main()"
      ],
      "metadata": {
        "colab": {
          "base_uri": "https://localhost:8080/",
          "height": 208
        },
        "id": "iKuq2DoscCyX",
        "outputId": "9353c6e4-0d8a-40a4-8ade-964291f2d361"
      },
      "execution_count": 32,
      "outputs": [
        {
          "output_type": "display_data",
          "data": {
            "text/plain": [
              "<IPython.core.display.HTML object>"
            ],
            "text/html": [
              "<span style=\"color: blue\">Enter a number: </span>"
            ]
          },
          "metadata": {}
        },
        {
          "name": "stdout",
          "output_type": "stream",
          "text": [
            "12\n"
          ]
        },
        {
          "output_type": "display_data",
          "data": {
            "text/plain": [
              "<IPython.core.display.HTML object>"
            ],
            "text/html": [
              "<span style=\"color: blue\">You entered: 12</span>"
            ]
          },
          "metadata": {}
        },
        {
          "output_type": "stream",
          "name": "stdout",
          "text": [
            "\n",
            "Here are the divisors of 12:\n",
            "1\n",
            "2\n",
            "3\n",
            "4\n",
            "6\n",
            "12\n"
          ]
        }
      ]
    },
    {
      "cell_type": "markdown",
      "source": [
        "# ***08_print_multiple***"
      ],
      "metadata": {
        "id": "ClmBhJipdeEc"
      }
    },
    {
      "cell_type": "code",
      "source": [
        "from IPython.display import display, HTML\n",
        "\n",
        "print(\"08_print_multiple\")\n",
        "def print_message(message:str,repeats:int):\n",
        "  for i in range(repeats):\n",
        "    print(message)\n",
        "\n",
        "def main():\n",
        "    display(HTML('<span style=\"color: blue\">please type a message: </span>'))\n",
        "    message = input()\n",
        "    display(HTML(f'<span style=\"color: blue\">You entered: {message}</span>'))\n",
        "    display(HTML('<span style=\"color: blue\">please type a number: </span>'))\n",
        "    repeats = int(input())\n",
        "    display(HTML(f'<span style=\"color: blue\">You entered: {repeats}</span>'))\n",
        "    print_message(message,repeats)\n",
        "\n",
        "if __name__ == '__main__':\n",
        "    main()\n",
        "\n"
      ],
      "metadata": {
        "colab": {
          "base_uri": "https://localhost:8080/",
          "height": 208
        },
        "id": "Y9XzEo9uddqJ",
        "outputId": "a8d9d939-f2ea-47cd-97dc-10fd447724d9"
      },
      "execution_count": 41,
      "outputs": [
        {
          "output_type": "stream",
          "name": "stdout",
          "text": [
            "08_print_multiple\n"
          ]
        },
        {
          "output_type": "display_data",
          "data": {
            "text/plain": [
              "<IPython.core.display.HTML object>"
            ],
            "text/html": [
              "<span style=\"color: blue\">please type a message: </span>"
            ]
          },
          "metadata": {}
        },
        {
          "name": "stdout",
          "output_type": "stream",
          "text": [
            "hello rabia\n"
          ]
        },
        {
          "output_type": "display_data",
          "data": {
            "text/plain": [
              "<IPython.core.display.HTML object>"
            ],
            "text/html": [
              "<span style=\"color: blue\">You entered: hello rabia</span>"
            ]
          },
          "metadata": {}
        },
        {
          "output_type": "display_data",
          "data": {
            "text/plain": [
              "<IPython.core.display.HTML object>"
            ],
            "text/html": [
              "<span style=\"color: blue\">please type a number: </span>"
            ]
          },
          "metadata": {}
        },
        {
          "name": "stdout",
          "output_type": "stream",
          "text": [
            "4\n"
          ]
        },
        {
          "output_type": "display_data",
          "data": {
            "text/plain": [
              "<IPython.core.display.HTML object>"
            ],
            "text/html": [
              "<span style=\"color: blue\">You entered: 4</span>"
            ]
          },
          "metadata": {}
        },
        {
          "output_type": "stream",
          "name": "stdout",
          "text": [
            "hello rabia\n",
            "hello rabia\n",
            "hello rabia\n",
            "hello rabia\n"
          ]
        }
      ]
    },
    {
      "cell_type": "markdown",
      "source": [
        "# ***09_sentence_generator***"
      ],
      "metadata": {
        "id": "mOtcjzRIe1KZ"
      }
    },
    {
      "cell_type": "code",
      "source": [
        "from IPython.display import display, HTML\n",
        "\n",
        "print(\"09_sentence_generator\")\n",
        "\n",
        "def make_sentence(word: str, part_of_speech: int):\n",
        "    \"\"\"Generate a sentence based on word and part of speech\"\"\"\n",
        "    sentences = {\n",
        "        0: f\"I am excited to add this {word} to my vast collection of them!\",  # noun\n",
        "        1: f\"It's so nice outside today it makes me want to {word}!\",          # verb\n",
        "        2: f\"Looking out my window, the sky is big and {word}!\"               # adjective\n",
        "    }\n",
        "    print(sentences.get(part_of_speech,\n",
        "         \"Part of speech must be 0, 1, or 2! Can't make a sentence.\"))\n",
        "\n",
        "def get_input(prompt: str, input_type=str):\n",
        "    \"\"\"Get user input with blue styling and validation\"\"\"\n",
        "    while True:\n",
        "        try:\n",
        "            display(HTML(f'<span style=\"color: blue\">{prompt}</span>'))\n",
        "            user_input = input()\n",
        "            display(HTML(f'<span style=\"color: blue\">You entered: {user_input}</span>'))\n",
        "            return input_type(user_input)\n",
        "        except ValueError:\n",
        "            print(f\"Please enter a valid {input_type.__name__}\")\n",
        "\n",
        "def main():\n",
        "    # Get word input\n",
        "    word = get_input(\"Please type a noun, verb, or adjective:\")\n",
        "\n",
        "    # Get part of speech with validation\n",
        "    part_of_speech = get_input(\n",
        "        \"Type 0 for noun, 1 for verb, 2 for adjective:\", int)\n",
        "\n",
        "    # Generate and display sentence\n",
        "    make_sentence(word, part_of_speech)\n",
        "\n",
        "if __name__ == '__main__':\n",
        "    main()"
      ],
      "metadata": {
        "colab": {
          "base_uri": "https://localhost:8080/",
          "height": 156
        },
        "id": "7Ugo22BKe01h",
        "outputId": "ff9de464-22f3-46b8-8ba1-328e2056faa0"
      },
      "execution_count": 48,
      "outputs": [
        {
          "output_type": "stream",
          "name": "stdout",
          "text": [
            "09_sentence_generator\n"
          ]
        },
        {
          "output_type": "display_data",
          "data": {
            "text/plain": [
              "<IPython.core.display.HTML object>"
            ],
            "text/html": [
              "<span style=\"color: blue\">Please type a noun, verb, or adjective:</span>"
            ]
          },
          "metadata": {}
        },
        {
          "name": "stdout",
          "output_type": "stream",
          "text": [
            "good\n"
          ]
        },
        {
          "output_type": "display_data",
          "data": {
            "text/plain": [
              "<IPython.core.display.HTML object>"
            ],
            "text/html": [
              "<span style=\"color: blue\">You entered: good</span>"
            ]
          },
          "metadata": {}
        },
        {
          "output_type": "display_data",
          "data": {
            "text/plain": [
              "<IPython.core.display.HTML object>"
            ],
            "text/html": [
              "<span style=\"color: blue\">Type 0 for noun, 1 for verb, 2 for adjective:</span>"
            ]
          },
          "metadata": {}
        },
        {
          "name": "stdout",
          "output_type": "stream",
          "text": [
            "2\n"
          ]
        },
        {
          "output_type": "display_data",
          "data": {
            "text/plain": [
              "<IPython.core.display.HTML object>"
            ],
            "text/html": [
              "<span style=\"color: blue\">You entered: 2</span>"
            ]
          },
          "metadata": {}
        },
        {
          "output_type": "stream",
          "name": "stdout",
          "text": [
            "Looking out my window, the sky is big and good!\n"
          ]
        }
      ]
    },
    {
      "cell_type": "markdown",
      "source": [
        "# ***10_print_ones_digit***"
      ],
      "metadata": {
        "id": "WnY3V4xOhmRA"
      }
    },
    {
      "cell_type": "code",
      "source": [
        "from IPython.display import display, HTML\n",
        "print(\"10_print_ones_digit\")\n",
        "def print_ones_digit(num: int):\n",
        "    \"\"\"Print the ones digit of a given number\"\"\"\n",
        "    ones_digit = num % 10\n",
        "    print(f\"The ones digit of {num} is {ones_digit}\")\n",
        "\n",
        "def main():\n",
        "  display(HTML('<span style=\"color: blue\">please Enter a number: </span>'))\n",
        "  num = int(input())\n",
        "  display(HTML(f'<span style=\"color: blue\">You entered: {num}</span>'))\n",
        "  print_ones_digit(num)\n",
        "\n",
        "if __name__ == '__main__':\n",
        "    main()\n",
        "\n",
        "\n"
      ],
      "metadata": {
        "colab": {
          "base_uri": "https://localhost:8080/",
          "height": 104
        },
        "id": "OtKywF7Dhl68",
        "outputId": "49d5e182-b00b-4a88-d385-586a3a9e4f28"
      },
      "execution_count": 51,
      "outputs": [
        {
          "output_type": "stream",
          "name": "stdout",
          "text": [
            "10_print_ones_digit\n"
          ]
        },
        {
          "output_type": "display_data",
          "data": {
            "text/plain": [
              "<IPython.core.display.HTML object>"
            ],
            "text/html": [
              "<span style=\"color: blue\">please Enter a number: </span>"
            ]
          },
          "metadata": {}
        },
        {
          "name": "stdout",
          "output_type": "stream",
          "text": [
            "54\n"
          ]
        },
        {
          "output_type": "display_data",
          "data": {
            "text/plain": [
              "<IPython.core.display.HTML object>"
            ],
            "text/html": [
              "<span style=\"color: blue\">You entered: 54</span>"
            ]
          },
          "metadata": {}
        },
        {
          "output_type": "stream",
          "name": "stdout",
          "text": [
            "The ones digit of 54 is 4\n"
          ]
        }
      ]
    }
  ]
}