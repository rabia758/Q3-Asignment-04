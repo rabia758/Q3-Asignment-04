{
  "nbformat": 4,
  "nbformat_minor": 0,
  "metadata": {
    "colab": {
      "provenance": []
    },
    "kernelspec": {
      "name": "python3",
      "display_name": "Python 3"
    },
    "language_info": {
      "name": "python"
    }
  },
  "cells": [
    {
      "cell_type": "markdown",
      "source": [
        "# ***00_choosing_returns***"
      ],
      "metadata": {
        "id": "kAQgP2KEi88i"
      }
    },
    {
      "cell_type": "code",
      "execution_count": 11,
      "metadata": {
        "colab": {
          "base_uri": "https://localhost:8080/",
          "height": 104
        },
        "id": "jzqTooPci4AS",
        "outputId": "1d964627-f8a4-489b-e2a3-4b094b801f00"
      },
      "outputs": [
        {
          "output_type": "stream",
          "name": "stdout",
          "text": [
            "00_choosing_returns\n"
          ]
        },
        {
          "output_type": "display_data",
          "data": {
            "text/plain": [
              "<IPython.core.display.HTML object>"
            ],
            "text/html": [
              "<span style=\"font-weight: bold; font-style: italic\">How Old is this person?: </span>"
            ]
          },
          "metadata": {}
        },
        {
          "name": "stdout",
          "output_type": "stream",
          "text": [
            "20\n"
          ]
        },
        {
          "output_type": "display_data",
          "data": {
            "text/plain": [
              "<IPython.core.display.HTML object>"
            ],
            "text/html": [
              "<span style=\"font-weight: bold; font-style: italic\">Entered: 20</span>"
            ]
          },
          "metadata": {}
        },
        {
          "output_type": "stream",
          "name": "stdout",
          "text": [
            "Adult status: True\n"
          ]
        }
      ],
      "source": [
        "from IPython.display import display, HTML\n",
        "print(\"00_choosing_returns\")\n",
        "ADULT_AGE : int = 18 #\n",
        "\n",
        "def is_adult(age: int):\n",
        "    if age >= ADULT_AGE:\n",
        "        return True\n",
        "\n",
        "    return False\n",
        "\n",
        "def main():\n",
        "    display(HTML('<span style=\"font-weight: bold; font-style: italic\">How Old is this person?: </span>'))\n",
        "\n",
        "    age_input = input()\n",
        "    display(HTML(f'<span style=\"font-weight: bold; font-style: italic\">Entered: {age_input}</span>'))\n",
        "    age = int(age_input)\n",
        "    print(\"Adult status:\", is_adult(age))\n",
        "\n",
        "\n",
        "if __name__ == \"__main__\":\n",
        "    main()\n"
      ]
    },
    {
      "cell_type": "markdown",
      "source": [
        "# ***01_greetings***"
      ],
      "metadata": {
        "id": "KtsklEyBm48k"
      }
    },
    {
      "cell_type": "code",
      "source": [
        "from IPython.display import display, HTML\n",
        "print(\"01_greetings\")\n",
        "def greet(name: str):\n",
        "    return f\"Greeting, {name} ! 🤗\"\n",
        "\n",
        "def main():\n",
        "    display(HTML(\"<span style='font-weight: bold; font-style: italic'>What's your name?: </span>\"))\n",
        "    name_input = input()\n",
        "    display(HTML(f\"<span style='font-weight: bold; font-style: italic'>Entered: {name_input}</span>\"))\n",
        "    print(greet(name_input))\n",
        "\n",
        "if __name__ == \"__main__\":\n",
        "  main()\n",
        "\n"
      ],
      "metadata": {
        "colab": {
          "base_uri": "https://localhost:8080/",
          "height": 104
        },
        "id": "DZghf4ZEm4j_",
        "outputId": "246998fa-3249-4106-97a2-286b0f9c2191"
      },
      "execution_count": 15,
      "outputs": [
        {
          "output_type": "stream",
          "name": "stdout",
          "text": [
            "01_greetings\n"
          ]
        },
        {
          "output_type": "display_data",
          "data": {
            "text/plain": [
              "<IPython.core.display.HTML object>"
            ],
            "text/html": [
              "<span style='font-weight: bold; font-style: italic'>What's your name?: </span>"
            ]
          },
          "metadata": {}
        },
        {
          "name": "stdout",
          "output_type": "stream",
          "text": [
            "rabia\n"
          ]
        },
        {
          "output_type": "display_data",
          "data": {
            "text/plain": [
              "<IPython.core.display.HTML object>"
            ],
            "text/html": [
              "<span style='font-weight: bold; font-style: italic'>Entered: rabia</span>"
            ]
          },
          "metadata": {}
        },
        {
          "output_type": "stream",
          "name": "stdout",
          "text": [
            "Greeting, rabia ! 🤗\n"
          ]
        }
      ]
    },
    {
      "cell_type": "markdown",
      "source": [
        "# ***02_in_range***"
      ],
      "metadata": {
        "id": "m4cg3cxJpAfg"
      }
    },
    {
      "cell_type": "code",
      "source": [
        "print(\"02_in_range\")\n",
        "def in_range(n, low, high):\n",
        "  \"\"\"\n",
        "  Returns True if n is between low and high, inclusive.\n",
        "  high is guaranteed to be greater than low.\n",
        "  \"\"\"\n",
        "  if n >= low and n <= high:\n",
        "\t    return True\n",
        "\n",
        "  return False\n",
        "\n",
        "if __name__ == \"__main__\":\n",
        "  print(in_range(10, 10, 10))\n",
        "  print(in_range(5, 10, 20))\n"
      ],
      "metadata": {
        "colab": {
          "base_uri": "https://localhost:8080/"
        },
        "id": "FMj8YTFhpAMm",
        "outputId": "9ddda352-b633-4ce2-b0eb-e518a7af9670"
      },
      "execution_count": 19,
      "outputs": [
        {
          "output_type": "stream",
          "name": "stdout",
          "text": [
            "02_in_range\n",
            "True\n",
            "False\n"
          ]
        }
      ]
    },
    {
      "cell_type": "markdown",
      "source": [
        "#\n"
      ],
      "metadata": {
        "id": "k3S5fHjJqc7S"
      }
    },
    {
      "cell_type": "code",
      "source": [
        "from IPython.display import display, HTML\n",
        "print(\"03_in_stock\")\n",
        "def in_stock(fruit):\n",
        " if fruit == \"apple\":\n",
        "  return 5\n",
        " if fruit == \"banana\":\n",
        "  return 2\n",
        " if fruit == \"orange\":\n",
        "  return 6\n",
        " if fruit == \"pear\":\n",
        "  return 4\n",
        " else:\n",
        "  return 0\n",
        "\n",
        "def main():\n",
        "  display(HTML(\"<span style='font-weight: bold; font-style: italic'>Enter a fruit?: </span>\"))\n",
        "  fruit_input = input()\n",
        "  display(HTML(f\"<span style='font-weight: bold; font-style: italic'>Entered: {fruit_input}</span>\"))\n",
        "  stock=in_stock(fruit_input)\n",
        "  if stock == 0:\n",
        "    display(HTML(\"<span style='font-weight: bold; font-style: italic'>Out of stock</span>\"))\n",
        "\n",
        "\n",
        "  else:\n",
        "    display(HTML(\"<span style='font-weight: bold; font-style: italic'>this fruit is in stock stock</span>\"))\n",
        "    display(HTML(f\"<span style='font-weight: bold; font-style: italic'>Stock: {stock}</span>\"))\n",
        "    print (stock)\n",
        "\n",
        "\n",
        "if __name__ == \"__main__\":\n",
        "  main()"
      ],
      "metadata": {
        "colab": {
          "base_uri": "https://localhost:8080/",
          "height": 104
        },
        "id": "jYujLS-jqcm1",
        "outputId": "18fc2d51-bbe6-476c-9a15-37ae7b914a71"
      },
      "execution_count": 26,
      "outputs": [
        {
          "output_type": "stream",
          "name": "stdout",
          "text": [
            "03_in_stock\n"
          ]
        },
        {
          "output_type": "display_data",
          "data": {
            "text/plain": [
              "<IPython.core.display.HTML object>"
            ],
            "text/html": [
              "<span style='font-weight: bold; font-style: italic'>Enter a fruit?: </span>"
            ]
          },
          "metadata": {}
        },
        {
          "name": "stdout",
          "output_type": "stream",
          "text": [
            "leeche\n"
          ]
        },
        {
          "output_type": "display_data",
          "data": {
            "text/plain": [
              "<IPython.core.display.HTML object>"
            ],
            "text/html": [
              "<span style='font-weight: bold; font-style: italic'>Entered: leeche</span>"
            ]
          },
          "metadata": {}
        },
        {
          "output_type": "display_data",
          "data": {
            "text/plain": [
              "<IPython.core.display.HTML object>"
            ],
            "text/html": [
              "<span style='font-weight: bold; font-style: italic'>Out of stock</span>"
            ]
          },
          "metadata": {}
        }
      ]
    },
    {
      "cell_type": "markdown",
      "source": [
        "# ***04_multiple_returns***"
      ],
      "metadata": {
        "id": "hrMkXPhds-A5"
      }
    },
    {
      "cell_type": "code",
      "source": [
        "print(\"04_multiple_returns\")\n",
        "def get_user_info():\n",
        "    first_name: str = input(\"What is your first name?: \")\n",
        "    last_name: str = input(\"What is your last name?: \")\n",
        "    email_address : str = input(\"What is your email address?: \")\n",
        "\n",
        "    return first_name, last_name, email_address\n",
        "\n",
        "\n",
        "def main():\n",
        "    user_data = get_user_info()\n",
        "    print(\"Received the following user data:\", user_data)\n",
        "\n",
        "if __name__ == \"__main__\":\n",
        "     main()\n",
        ""
      ],
      "metadata": {
        "colab": {
          "base_uri": "https://localhost:8080/"
        },
        "id": "zmQOeK3ns9tm",
        "outputId": "da542b6b-51ff-4c8c-f581-a8d2f1bd6c2c"
      },
      "execution_count": 27,
      "outputs": [
        {
          "output_type": "stream",
          "name": "stdout",
          "text": [
            "04_multiple_returns\n",
            "What is your first name?: Rabia\n",
            "What is your last name?: Rizwan\n",
            "What is your email address?: rabiarizwan123@gmail.com\n",
            "Received the following user data: ('Rabia', 'Rizwan', 'rabiarizwan123@gmail.com')\n"
          ]
        }
      ]
    },
    {
      "cell_type": "markdown",
      "source": [
        "# ***05_subtract_7***"
      ],
      "metadata": {
        "id": "GcAi1J9zt7y6"
      }
    },
    {
      "cell_type": "code",
      "source": [
        "print(\"05_subtract_7\")\n",
        "def main():\n",
        "\tnum: int = 7\n",
        "\tnum = subtract_seven(num)\n",
        "\tprint(\"this should be zero: \", num)\n",
        "\n",
        "def subtract_seven(num):\n",
        "\tnum = num - 7\n",
        "\treturn num\n",
        "if __name__ == '__main__':\n",
        "    main()"
      ],
      "metadata": {
        "colab": {
          "base_uri": "https://localhost:8080/"
        },
        "id": "5tf7-ONbt7Wc",
        "outputId": "5c6420e8-c393-4711-f763-0c234d09a208"
      },
      "execution_count": 34,
      "outputs": [
        {
          "output_type": "stream",
          "name": "stdout",
          "text": [
            "05_subtract_7\n",
            "this should be zero:  0\n"
          ]
        }
      ]
    }
  ]
}