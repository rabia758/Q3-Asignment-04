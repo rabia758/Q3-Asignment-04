{
  "nbformat": 4,
  "nbformat_minor": 0,
  "metadata": {
    "colab": {
      "provenance": []
    },
    "kernelspec": {
      "name": "python3",
      "display_name": "Python 3"
    },
    "language_info": {
      "name": "python"
    }
  },
  "cells": [
    {
      "cell_type": "markdown",
      "source": [
        "# **Add Two Numbers**"
      ],
      "metadata": {
        "id": "5jVXUGD4ap3z"
      }
    },
    {
      "cell_type": "code",
      "execution_count": 3,
      "metadata": {
        "colab": {
          "base_uri": "https://localhost:8080/"
        },
        "id": "iP0RiUaOag98",
        "outputId": "0fad53c0-d60c-468e-f06f-00930562ae75"
      },
      "outputs": [
        {
          "output_type": "stream",
          "name": "stdout",
          "text": [
            "Enter Your First Number: 4\n",
            "Enter Your Second Number: 6\n",
            "The sum of 4 and 6 is 10.0\n"
          ]
        }
      ],
      "source": [
        "num1 = input(\"Enter Your First Number: \")\n",
        "num2 = input(\"Enter Your Second Number: \")\n",
        "sum = float(num1) + float(num2)\n",
        "print('The sum of {0} and {1} is {2}'.format(num1, num2, sum))"
      ]
    }
  ]
}