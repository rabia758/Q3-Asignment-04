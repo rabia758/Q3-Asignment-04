{
  "nbformat": 4,
  "nbformat_minor": 0,
  "metadata": {
    "colab": {
      "provenance": []
    },
    "kernelspec": {
      "name": "python3",
      "display_name": "Python 3"
    },
    "language_info": {
      "name": "python"
    }
  },
  "cells": [
    {
      "cell_type": "markdown",
      "source": [
        "# **Add Two Numbers**"
      ],
      "metadata": {
        "id": "5jVXUGD4ap3z"
      }
    },
    {
      "cell_type": "code",
      "execution_count": null,
      "metadata": {
        "colab": {
          "base_uri": "https://localhost:8080/"
        },
        "id": "iP0RiUaOag98",
        "outputId": "e8c23226-840f-46b9-e908-46610b989a7d"
      },
      "outputs": [
        {
          "output_type": "stream",
          "name": "stdout",
          "text": [
            "01_add_two_number\n",
            "Enter Your First Number: 6\n",
            "Enter Your Second Number: 5\n",
            "The sum of 6 and 5 is 11.0\n"
          ]
        }
      ],
      "source": [
        "print(\"01_add_two_number\")\n",
        "def add():\n",
        "  num1 = int(input(\"Enter Your First Number: \"))\n",
        "  num2 = int(input(\"Enter Your Second Number: \"))\n",
        "  sum = float(num1) + float(num2)\n",
        "  print('The sum of {0} and {1} is {2}'.format(num1, num2, sum))\n",
        "if __name__ == \"__main__\":\n",
        "  add()"
      ]
    },
    {
      "cell_type": "markdown",
      "source": [
        "# **02_agreement_bot**"
      ],
      "metadata": {
        "id": "XSpNUnJBDgg2"
      }
    },
    {
      "cell_type": "code",
      "source": [
        "print(\"02_agreement_bot\")\n",
        "def bot():\n",
        "  animal= str(input(\"what is your favourite animal: \"))\n",
        "  print(f\"My favourite animal is also\",{animal})\n",
        "if __name__== \"__main__\":\n",
        "  bot()"
      ],
      "metadata": {
        "id": "pQyBIAGjDf_u",
        "colab": {
          "base_uri": "https://localhost:8080/"
        },
        "outputId": "63734cea-2bd0-43f3-bcd1-9b62933bb42a"
      },
      "execution_count": null,
      "outputs": [
        {
          "output_type": "stream",
          "name": "stdout",
          "text": [
            "02_agreement_bot\n",
            "what is your favourite animal: cat\n",
            "My favourite animal is also {'cat'}\n"
          ]
        }
      ]
    },
    {
      "cell_type": "markdown",
      "source": [
        "# **03_fahrenheit_to_celsius**"
      ],
      "metadata": {
        "id": "tTOY9isSFabC"
      }
    },
    {
      "cell_type": "code",
      "source": [
        "print(\"03_fahrenheit_to_celsius\")\n",
        "def temp():\n",
        "  print(\"This application converying Fahrenhit to celsius\")\n",
        "  user = float(input(\"Enter your fahrenhit: \"))\n",
        "  celsius = (user - 32) * 5.0/9.0\n",
        "  print(f\" The temperature  is {user} = {celsius} c\")\n",
        "if __name__== \"__main__\":\n",
        "  temp()\n",
        "\n"
      ],
      "metadata": {
        "colab": {
          "base_uri": "https://localhost:8080/"
        },
        "id": "waW56iaZFaA4",
        "outputId": "f1c60244-4c52-4ed8-f6f8-4b552c4e8e45"
      },
      "execution_count": null,
      "outputs": [
        {
          "output_type": "stream",
          "name": "stdout",
          "text": [
            "03_fahrenheit_to_celsius\n",
            "This application converying Fahrenhit to celsius\n",
            "Enter your fahrenhit: 54\n",
            " The temperature  is 54.0 = 12.222222222222221 c\n"
          ]
        }
      ]
    },
    {
      "cell_type": "markdown",
      "source": [
        "# **04_how_old_are_they**"
      ],
      "metadata": {
        "id": "gVC-YWy0HODK"
      }
    },
    {
      "cell_type": "code",
      "source": [
        "print(\"04_how_old_are_they\")\n",
        "def age():\n",
        "  A: int = 21\n",
        "  B : int = A + 6\n",
        "  c : int = B + 20\n",
        "  D :int = c + A\n",
        "  E : int = c\n",
        "\n",
        "  print(\"A is \"+ str(A) + \" years old\")\n",
        "  print(\"B is \"+ str(B) + \" years old\")\n",
        "  print(\"C is \"+ str(c) + \" years old\")\n",
        "  print(\"D is \"+ str(D) + \" years old\")\n",
        "  print(\"E is \"+ str(E) + \" years old\")\n",
        "if __name__== \"__main__\":\n",
        "  age()"
      ],
      "metadata": {
        "colab": {
          "base_uri": "https://localhost:8080/"
        },
        "id": "pd1zoSHKHNFX",
        "outputId": "98aec459-b646-4a57-8d89-cb634c419b2e"
      },
      "execution_count": null,
      "outputs": [
        {
          "output_type": "stream",
          "name": "stdout",
          "text": [
            "04_how_old_are_they\n",
            "A is 21 years old\n",
            "B is 27 years old\n",
            "C is 47 years old\n",
            "D is 68 years old\n",
            "E is 47 years old\n"
          ]
        }
      ]
    },
    {
      "cell_type": "markdown",
      "source": [
        "# **05_triangle_perimeter**"
      ],
      "metadata": {
        "id": "QDgwlP3YJO1z"
      }
    },
    {
      "cell_type": "code",
      "source": [
        "print(\"05_triangle_perimeter\")\n",
        "def triangle():\n",
        "  print(\"This application converying perimeter of triangle\")\n",
        "  a = float(input('\\nEnter first side Length: '))\n",
        "  b = float(input('Enter second side length: '))\n",
        "  c = float(input('Enter third side Length: '))\n",
        "  print(f\"\\nThe perimeter {a} ,{b} and {c} of  the triangle is \" + str(a+b+c))\n",
        "\n",
        "if __name__== \"__main__\":\n",
        "  triangle()\n"
      ],
      "metadata": {
        "colab": {
          "base_uri": "https://localhost:8080/"
        },
        "id": "eUS-mEo0JMDU",
        "outputId": "266d318e-f0a5-4fba-c742-f50b03bf6944"
      },
      "execution_count": 5,
      "outputs": [
        {
          "output_type": "stream",
          "name": "stdout",
          "text": [
            "05_triangle_perimeter\n",
            "This application converying perimeter of triangle\n",
            "\n",
            "**Enter first side Length**: 5\n",
            "Enter second side length: 6\n",
            "Enter third side Length: 8\n",
            "\n",
            "The perimeter 5.0 ,6.0 and 8.0 of  the triangle is 19.0\n"
          ]
        }
      ]
    },
    {
      "cell_type": "markdown",
      "source": [],
      "metadata": {
        "id": "lEWNPPPxnFKK"
      }
    },
    {
      "cell_type": "markdown",
      "source": [
        "# **06_square_number**"
      ],
      "metadata": {
        "id": "VoihHH-5nCBa"
      }
    },
    {
      "cell_type": "code",
      "source": [
        "print(\"06_square_number\")\n",
        "def square_number():\n",
        "  print(\"This application converying square of number\")\n",
        "  num :float = float(input(\"Type a number to see its square: \"))\n",
        "  print(f\"The square of {num} is {num**2}\")\n",
        "if __name__== \"__main__\":\n",
        "  square_number()"
      ],
      "metadata": {
        "id": "KCCrLlLULUXl",
        "colab": {
          "base_uri": "https://localhost:8080/"
        },
        "outputId": "0f5ff9f7-396a-4f1f-bec9-cbac0f12dc05"
      },
      "execution_count": 7,
      "outputs": [
        {
          "output_type": "stream",
          "name": "stdout",
          "text": [
            "06_square_number\n",
            "This application converying square of number\n",
            "Type a number to see its square: 7\n",
            "The square of 7.0 is 49.0\n"
          ]
        }
      ]
    }
  ]
}