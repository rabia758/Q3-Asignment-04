{
  "nbformat": 4,
  "nbformat_minor": 0,
  "metadata": {
    "colab": {
      "provenance": []
    },
    "kernelspec": {
      "name": "python3",
      "display_name": "Python 3"
    },
    "language_info": {
      "name": "python"
    }
  },
  "cells": [
    {
      "cell_type": "markdown",
      "source": [
        "# ***01_add_many_number***"
      ],
      "metadata": {
        "id": "WV9QDyw4_kSk"
      }
    },
    {
      "cell_type": "code",
      "execution_count": 2,
      "metadata": {
        "colab": {
          "base_uri": "https://localhost:8080/"
        },
        "id": "-jjflymX_WGw",
        "outputId": "8d1562f5-a006-487b-f54b-fc56e419bc3f"
      },
      "outputs": [
        {
          "output_type": "stream",
          "name": "stdout",
          "text": [
            "01_add_many_number\n",
            "This Programe is add many number for using the for loop!\n",
            "45\n"
          ]
        }
      ],
      "source": [
        "print(\"01_add_many_number\")\n",
        "print (\"This Programe is add many number for using the for loop!\")\n",
        "\n",
        "def add_num(number)->int:\n",
        "  num:int = 0\n",
        "  for i in number:\n",
        "    num += i\n",
        "  return num\n",
        "\n",
        "def num():\n",
        "  numbers :list[int] = [1,2,3,4,5,6,7,8,9]\n",
        "  sum = add_num(numbers)\n",
        "  print(sum)\n",
        "\n",
        "if __name__ == \"__main__\":\n",
        "  num()"
      ]
    },
    {
      "cell_type": "markdown",
      "source": [
        "# ***02_double_list***"
      ],
      "metadata": {
        "id": "M-_0qq_ABGtx"
      }
    },
    {
      "cell_type": "code",
      "source": [
        "print(\"02_double_list\")\n",
        "print(\"\\nThis Programe is excute the code of double list!\")\n",
        "\n",
        "def double_list():\n",
        "  numbers:list[int] = [1,2,3,4,5]\n",
        "  for i in range(len(numbers)):\n",
        "    numbers[i] *= 2\n",
        "  print(numbers)\n",
        "\n",
        "if __name__ == \"__main__\":\n",
        "  double_list()"
      ],
      "metadata": {
        "colab": {
          "base_uri": "https://localhost:8080/"
        },
        "id": "m0w_09apBNMH",
        "outputId": "e329e493-c7b9-489f-cbe5-e99791e5e009"
      },
      "execution_count": 4,
      "outputs": [
        {
          "output_type": "stream",
          "name": "stdout",
          "text": [
            "02_double_list\n",
            "This Programe is excute the code of double list!\n",
            "[2, 4, 6, 8, 10]\n"
          ]
        }
      ]
    },
    {
      "cell_type": "markdown",
      "source": [
        "# ***04_flowing_with_data_structures***"
      ],
      "metadata": {
        "id": "y07Thlo4Gvxz"
      }
    },
    {
      "cell_type": "code",
      "source": [
        "print(\"04_flowing_with_data_structures\")\n",
        "\n",
        "def copies(list,data):\n",
        "  for i in range(3):\n",
        "    list.append(data)\n",
        "\n",
        "def main():\n",
        "  user_input = input(\"Enter a Message to copy!: \")\n",
        "  list = []\n",
        "  print(\"Before list\", list)\n",
        "  copies(list,user_input)\n",
        "  print(\"After list\", list)\n",
        "\n",
        "if __name__ == \"__main__\":\n",
        "  main()\n",
        "\n"
      ],
      "metadata": {
        "colab": {
          "base_uri": "https://localhost:8080/"
        },
        "id": "1msYqXrvG5oH",
        "outputId": "8e53e6b0-baff-46ee-a60f-d89ebee9a8b4"
      },
      "execution_count": 13,
      "outputs": [
        {
          "output_type": "stream",
          "name": "stdout",
          "text": [
            "04_flowing_with_data_structures\n",
            "Enter a Message to copy!: hello\n",
            "Before list []\n",
            "After list ['hello', 'hello', 'hello']\n"
          ]
        }
      ]
    },
    {
      "cell_type": "markdown",
      "source": [
        "#  ***05_get_first_element.***"
      ],
      "metadata": {
        "id": "vJDiiFMzIf6o"
      }
    },
    {
      "cell_type": "code",
      "source": [
        "print(\"05_get_first_element.\")\n",
        "\n",
        "def get_first_element(list):\n",
        "  print(list[0])\n",
        "\n",
        "def get_list():\n",
        "  list = []\n",
        "  element:str = input(\"Enter an element to add in the list or press enter to stop: \")\n",
        "  while element != \"\":\n",
        "    list.append(element)\n",
        "    element = input(\"Enter an element to add in the list or press enter to stop: \")\n",
        "  return list\n",
        "\n",
        "def main():\n",
        "  list = get_list()\n",
        "  get_first_element(list)\n",
        "if __name__ == \"__main__\":\n",
        "  main()"
      ],
      "metadata": {
        "colab": {
          "base_uri": "https://localhost:8080/"
        },
        "id": "8Ouy8DV2IxhB",
        "outputId": "aa82cf31-b6bd-4609-f3ff-e336b4f1d419"
      },
      "execution_count": 19,
      "outputs": [
        {
          "output_type": "stream",
          "name": "stdout",
          "text": [
            "05_get_first_element.\n",
            "Enter an element to add in the list or press enter to stop: h\n",
            "Enter an element to add in the list or press enter to stop: k\n",
            "Enter an element to add in the list or press enter to stop: l\n",
            "Enter an element to add in the list or press enter to stop: o\n",
            "Enter an element to add in the list or press enter to stop: \n",
            "h\n"
          ]
        }
      ]
    },
    {
      "cell_type": "markdown",
      "source": [
        "# ***06_get_last_element***"
      ],
      "metadata": {
        "id": "_5sxr1YcKxaj"
      }
    },
    {
      "cell_type": "code",
      "source": [
        "print(\"06_get_last_element\")\n",
        "\n",
        "\n",
        "def get_first_element(list):\n",
        "  print(list[-1])\n",
        "\n",
        "def get_list():\n",
        "  list = []\n",
        "  element:str = input(\"Enter an element to add in the list or press enter to stop: \")\n",
        "  while element != \"\":\n",
        "    list.append(element)\n",
        "    element = input(\"Enter an element to add in the list or press enter to stop: \")\n",
        "  return list\n",
        "\n",
        "def main():\n",
        "  list = get_list()\n",
        "  get_first_element(list)\n",
        "if __name__ == \"__main__\":\n",
        "  main()\n"
      ],
      "metadata": {
        "colab": {
          "base_uri": "https://localhost:8080/"
        },
        "id": "OGl4LhzTK4W_",
        "outputId": "f458d355-989c-45ff-85b4-45a5df976e47"
      },
      "execution_count": 20,
      "outputs": [
        {
          "output_type": "stream",
          "name": "stdout",
          "text": [
            "06_get_last_element\n",
            "Enter an element to add in the list or press enter to stop: h\n",
            "Enter an element to add in the list or press enter to stop: k\n",
            "Enter an element to add in the list or press enter to stop: l\n",
            "Enter an element to add in the list or press enter to stop: l\n",
            "Enter an element to add in the list or press enter to stop: \n",
            "l\n"
          ]
        }
      ]
    },
    {
      "cell_type": "markdown",
      "source": [
        "# ***07_get_list***"
      ],
      "metadata": {
        "id": "ezyy2shFLUMb"
      }
    },
    {
      "cell_type": "code",
      "source": [
        "print(\"07_get_list\")\n",
        "\n",
        "def get_list():\n",
        "  list = []\n",
        "\n",
        "  val = input(\"Enter a value: \")\n",
        "  while val:\n",
        "    list.append(val)\n",
        "    val = input(\"Enter a value: \")\n",
        "  return (\"Here is the list\", list)\n",
        "\n",
        "def main():\n",
        "  list = get_list()\n",
        "  print(list)\n",
        "\n",
        "if __name__ == \"__main__\":\n",
        "  main()"
      ],
      "metadata": {
        "colab": {
          "base_uri": "https://localhost:8080/"
        },
        "id": "NIOhj7j6LpFT",
        "outputId": "de44965a-d25a-457e-b8ac-655f7572611c"
      },
      "execution_count": 21,
      "outputs": [
        {
          "output_type": "stream",
          "name": "stdout",
          "text": [
            "07_get_list\n",
            "Enter a value: h\n",
            "Enter a value: j\n",
            "Enter a value: k\n",
            "Enter a value: \n",
            "('Here is the list', ['h', 'j', 'k'])\n"
          ]
        }
      ]
    },
    {
      "cell_type": "markdown",
      "source": [
        "# ***08_shorten***"
      ],
      "metadata": {
        "id": "Lp54zX2PMYvi"
      }
    },
    {
      "cell_type": "code",
      "source": [
        "print(\"08_shorten\")\n",
        "\n",
        "MAX_LEN = 3  # Using uppercase for constants as per Python convention\n",
        "\n",
        "def shorten(items):  # Changed parameter name from 'list' to avoid shadowing built-in\n",
        "    \"\"\"\n",
        "    Shortens the list to MAX_LEN elements by removing elements from the end.\n",
        "    Prints each removed element.\n",
        "    \"\"\"\n",
        "    print(\"\\nShortening the list...\")\n",
        "    while len(items) > MAX_LEN:\n",
        "        last_elem = items.pop()\n",
        "        print(f\"Removed: {last_elem}\")\n",
        "    print(f\"Final list: {items}\")\n",
        "\n",
        "def get_list():\n",
        "    \"\"\"\n",
        "    Prompts the user to enter elements one at a time and returns the resulting list.\n",
        "    \"\"\"\n",
        "    items = []  # Changed variable name from 'list' to avoid confusion\n",
        "    print(\"\\nBuilding your list (press Enter without typing to finish):\")\n",
        "\n",
        "    while True:\n",
        "        elem = input(f\"Enter element #{len(items) + 1}: \").strip()\n",
        "        if elem == \"\":\n",
        "            if len(items) == 0:\n",
        "                print(\"Please enter at least one element.\")\n",
        "                continue\n",
        "            break\n",
        "        items.append(elem)\n",
        "\n",
        "    print(f\"\\nOriginal list: {items}\")\n",
        "    return items\n",
        "\n",
        "def main():\n",
        "    try:\n",
        "        items = get_list()\n",
        "        shorten(items)\n",
        "    except Exception as e:\n",
        "        print(f\"An error occurred: {e}\")\n",
        "\n",
        "if __name__ == \"__main__\":\n",
        "    main()"
      ],
      "metadata": {
        "colab": {
          "base_uri": "https://localhost:8080/"
        },
        "id": "HMAsJ5vDMfU6",
        "outputId": "c126e608-df0e-4528-ae51-ce14fcc7c3c5"
      },
      "execution_count": 39,
      "outputs": [
        {
          "output_type": "stream",
          "name": "stdout",
          "text": [
            "08_shorten\n",
            "\n",
            "Building your list (press Enter without typing to finish):\n",
            "Enter element #1: hi\n",
            "Enter element #2: hi\n",
            "Enter element #3: hello\n",
            "Enter element #4: h\n",
            "Enter element #5: \n",
            "\n",
            "Original list: ['hi', 'hi', 'hello', 'h']\n",
            "\n",
            "Shortening the list...\n",
            "Removed: h\n",
            "Final list: ['hi', 'hi', 'hello']\n"
          ]
        }
      ]
    }
  ]
}