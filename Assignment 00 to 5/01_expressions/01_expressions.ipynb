{
  "nbformat": 4,
  "nbformat_minor": 0,
  "metadata": {
    "colab": {
      "provenance": []
    },
    "kernelspec": {
      "name": "python3",
      "display_name": "Python 3"
    },
    "language_info": {
      "name": "python"
    }
  },
  "cells": [
    {
      "cell_type": "markdown",
      "source": [
        "# ***01_dicesimulator***"
      ],
      "metadata": {
        "id": "aNP5U1O7tleC"
      }
    },
    {
      "cell_type": "code",
      "execution_count": 6,
      "metadata": {
        "colab": {
          "base_uri": "https://localhost:8080/"
        },
        "id": "hKPESHtDtg-l",
        "outputId": "00fa076d-6e50-471c-97e0-2c1ef8004866"
      },
      "outputs": [
        {
          "output_type": "stream",
          "name": "stdout",
          "text": [
            "01_dicesimulator\n",
            "die1 in main() starts as: 10\n",
            "Rolling the dice...\n",
            "Dice 1: 4\n",
            "Dice 2: 2\n",
            "the Total of 4 and 2 is: 6\n",
            "Rolling the dice...\n",
            "Dice 1: 1\n",
            "Dice 2: 6\n",
            "the Total of 1 and 6 is: 7\n",
            "Rolling the dice...\n",
            "Dice 1: 5\n",
            "Dice 2: 2\n",
            "the Total of 5 and 2 is: 7\n",
            "die1 in main() is: 10\n"
          ]
        }
      ],
      "source": [
        "import random\n",
        "print(\"01_dicesimulator\")\n",
        "def roll_dice():\n",
        "    print(\"Rolling the dice...\")\n",
        "    dice1=random.randint(1,6)\n",
        "    dice2=random.randint(1,6)\n",
        "    dice1:int=random.randint(1,6)\n",
        "    dice2:int=random.randint(1,6)\n",
        "    total:int=dice1+dice2\n",
        "    print(f\"Dice 1: {dice1}\")\n",
        "    print(f\"Dice 2: {dice2}\")\n",
        "    print(f\"the Total of {dice1} and {dice2} is: {total}\")\n",
        "def main():\n",
        "   die1: int = 10\n",
        "   print(\"die1 in main() starts as: \" + str(die1))\n",
        "   roll_dice()\n",
        "   roll_dice()\n",
        "   roll_dice()\n",
        "   print(\"die1 in main() is: \" + str(die1))\n",
        "\n",
        "# This provided line is required at the end of a Python file\n",
        "# to call the main() function.\n",
        "if __name__ == '__main__':\n",
        "    main()\n",
        ""
      ]
    },
    {
      "cell_type": "markdown",
      "source": [
        "# ***02_e=mc2***"
      ],
      "metadata": {
        "id": "wOW8kTiSzHCH"
      }
    },
    {
      "cell_type": "code",
      "source": [
        "print(\"02_e=mc2\")\n",
        "def energy():\n",
        "  C:int = 299792458\n",
        "\n",
        "  # Calculate energy\n",
        "\n",
        "  mass_in_kg:int = float(input(\"\\nEnter kilos of mass: \"))\n",
        "  energy_in_joules: float = mass_in_kg * (C ** 2)\n",
        "\n",
        "  # Display work to the user\n",
        "\n",
        "\n",
        "  print(\"e = m * C^2...\")\n",
        "  print(\"m = \" + str(mass_in_kg) + \" kg\")\n",
        "  print(\"\\nC = \" + str(C) + \" m/s\")\n",
        "\n",
        "  print(str(energy_in_joules) + \" joules of energy!\")\n",
        "\n",
        "if __name__ == '__main__':\n",
        "    energy()\n"
      ],
      "metadata": {
        "colab": {
          "base_uri": "https://localhost:8080/"
        },
        "id": "syQjgoGSzC7h",
        "outputId": "b6b00de0-be5b-4ffa-f226-22b40b0b2a3b"
      },
      "execution_count": 11,
      "outputs": [
        {
          "output_type": "stream",
          "name": "stdout",
          "text": [
            "02_e=mc2\n",
            "\n",
            "Enter kilos of mass: 5\n",
            "e = m * C^2...\n",
            "m = 5.0 kg\n",
            "\n",
            "C = 299792458 m/s\n",
            "4.493775893684088e+17 joules of energy!\n"
          ]
        }
      ]
    },
    {
      "cell_type": "markdown",
      "source": [
        "# ***03_feet_to_inches***"
      ],
      "metadata": {
        "id": "c9vFFZF0zWjd"
      }
    },
    {
      "cell_type": "code",
      "source": [
        "print(\"03_feet_to_inches\")\n",
        "INCHES_IN_FOOT: int = 12\n",
        "def feet_to_inches():\n",
        "  print(\"This Operation is convert feet to inches!\")\n",
        "  feet: int = float(input(\"Enter Your Feet  Here: \"))\n",
        "  inches: float = feet * INCHES_IN_FOOT\n",
        "  print(\"There is\" , inches , \"inches in\" , feet , \"feet\")\n",
        "\n",
        "if __name__ == '__main__':\n",
        "    feet_to_inches()\n",
        "\n"
      ],
      "metadata": {
        "colab": {
          "base_uri": "https://localhost:8080/"
        },
        "id": "TSa7ay1Hzglq",
        "outputId": "545581c7-88d5-4589-d585-2e20106549ef"
      },
      "execution_count": 12,
      "outputs": [
        {
          "output_type": "stream",
          "name": "stdout",
          "text": [
            "03_feet_to_inches\n",
            "This Operation is convert feet to inches!\n",
            "Enter Your Feet  Here: 3\n",
            "There is 36.0 inches in 3.0 feet\n"
          ]
        }
      ]
    },
    {
      "cell_type": "markdown",
      "source": [
        "# ***04_pythagorean_theorem***"
      ],
      "metadata": {
        "id": "FsFmVI4L0p0H"
      }
    },
    {
      "cell_type": "code",
      "source": [
        "import math\n",
        "print(\"04_pythagorean_theorem\")\n",
        "def pythagorean_theorem():\n",
        "  print(\"\\nThis Operation is solve pythagorean theorem!\")\n",
        "  ab:float = float(input(\"\\nEnter the Length of the side ab: \"))\n",
        "  ac:float = float(input(\"Enter the length of the side ac: \"))\n",
        "  bc:float = math.sqrt(ab**2 + ac**2)\n",
        "  print(\"\\nThe length of BC (the hypotenuse) is: \" + str(bc))\n",
        "\n",
        "if __name__ == '__main__':\n",
        "    pythagorean_theorem()\n",
        "\n"
      ],
      "metadata": {
        "colab": {
          "base_uri": "https://localhost:8080/"
        },
        "id": "dYX9-Kqu0y3I",
        "outputId": "f29e6a82-e612-475f-b286-b798a4a2ecc2"
      },
      "execution_count": 19,
      "outputs": [
        {
          "output_type": "stream",
          "name": "stdout",
          "text": [
            "04_pythagorean_theorem\n",
            "\n",
            "This Operation is solve pythagorean theorem!\n",
            "\n",
            "Enter the Length of the side ab: 6\n",
            "Enter the length of the side ac: 8\n",
            "\n",
            "The length of BC (the hypotenuse) is: 10.0\n"
          ]
        }
      ]
    },
    {
      "cell_type": "markdown",
      "source": [
        "# ***05_remainder_division***"
      ],
      "metadata": {
        "id": "mJwSKAAI22oC"
      }
    },
    {
      "cell_type": "code",
      "source": [
        "print(\"05_remainder_division\")\n",
        "def devide_and_remainder():\n",
        "  print(\"\\nThis Operation is devide and remainder!\")\n",
        "  dividend: int = int(input(\"\\nPlease enter an integer to be divided: \"))\n",
        "  divisor: int = int(input(\"Please enter an integer to divide by: \"))\n",
        "\n",
        "  quotient: int = dividend // divisor\n",
        "  remainder: int = dividend % divisor\n",
        "  print(\"\\nThe Result of This devision is \" + str(dividend) + \" divided by \" + str(divisor) + \" is \" + str(quotient) + \" with a remainder of \" + str(remainder))\n",
        "\n",
        "if __name__ == '__main__':\n",
        "    devide_and_remainder()\n"
      ],
      "metadata": {
        "colab": {
          "base_uri": "https://localhost:8080/"
        },
        "id": "2Nu-F2Tt29u-",
        "outputId": "408ce5da-9fb4-4346-bea3-3af1fc4cff81"
      },
      "execution_count": 20,
      "outputs": [
        {
          "output_type": "stream",
          "name": "stdout",
          "text": [
            "05_remainder_division\n",
            "\n",
            "This Operation is devide and remainder!\n",
            "\n",
            "Please enter an integer to be divided: 7\n",
            "Please enter an integer to divide by: 3\n",
            "\n",
            "The Result of This devision is 7 divided by 3 is 2 with a remainder of 1\n"
          ]
        }
      ]
    },
    {
      "cell_type": "markdown",
      "source": [
        "# ***06_rolldice***"
      ],
      "metadata": {
        "id": "rusSw47W4I1t"
      }
    },
    {
      "cell_type": "code",
      "source": [
        "import random\n",
        "print(\"06_rolldice\")\n",
        "Num_Dice = 6\n",
        "def roll_dice():\n",
        "    print(\"\\nRolling the dice...\")\n",
        "    print(\"\\nThe Total Dice Of Number is\", Num_Dice)\n",
        "\n",
        "    dice1:int=random.randint(1,6)\n",
        "    dice2:int=random.randint(1,6)\n",
        "\n",
        "    total = dice1 + dice2\n",
        "    print(\"Dice 1: \", dice1)\n",
        "    print(\"Dice 2: \", dice2)\n",
        "    print(\"The Total of Two dice is:  \", total)\n",
        "\n",
        "if __name__== \"__main__\":\n",
        "  roll_dice()\n",
        "\n"
      ],
      "metadata": {
        "colab": {
          "base_uri": "https://localhost:8080/"
        },
        "id": "de9DuXZq4Rrm",
        "outputId": "2d82d446-96e3-48f1-f49d-c1a1710c975a"
      },
      "execution_count": 22,
      "outputs": [
        {
          "output_type": "stream",
          "name": "stdout",
          "text": [
            "06_rolldice\n",
            "\n",
            "Rolling the dice...\n",
            "\n",
            "The Total Dice Of Number is 6\n",
            "Dice 1:  5\n",
            "Dice 2:  2\n",
            "The Total of Two dice is:   7\n"
          ]
        }
      ]
    },
    {
      "cell_type": "markdown",
      "source": [
        "# ***06_seconds_in_year***"
      ],
      "metadata": {
        "id": "VOXfL6gb6n1P"
      }
    },
    {
      "cell_type": "code",
      "source": [
        "print(\"06_seconds_in_year\")\n",
        "DAYS_PER_YEAR: int = 365\n",
        "HOURS_PER_DAY: int = 24\n",
        "MIN_PER_HOUR: int = 60\n",
        "SEC_PER_MIN: int = 60\n",
        "\n",
        "def year():\n",
        "  print(\"\\nThere are \" + str(DAYS_PER_YEAR * HOURS_PER_DAY * MIN_PER_HOUR * SEC_PER_MIN) + \" seconds in a year!\")\n",
        "\n",
        "if __name__==\"__main__\":\n",
        "  year()\n",
        "\n"
      ],
      "metadata": {
        "colab": {
          "base_uri": "https://localhost:8080/"
        },
        "id": "23tl4lID6u74",
        "outputId": "3fd2a132-e755-4797-986f-fb394213f276"
      },
      "execution_count": 25,
      "outputs": [
        {
          "output_type": "stream",
          "name": "stdout",
          "text": [
            "06_seconds_in_year\n",
            "\n",
            "There are 31536000 seconds in a year!\n"
          ]
        }
      ]
    },
    {
      "cell_type": "markdown",
      "source": [
        "# ***07_tiny_mad_lib***"
      ],
      "metadata": {
        "id": "qeFcpwfT7rvs"
      }
    },
    {
      "cell_type": "code",
      "source": [
        "print(\"07_tiny_mad_lib\")\n",
        "def mad_lib():\n",
        "  noun : str = input(\"\\nEnter a noun: \")\n",
        "  verb : str = input(\"Enter a verb: \")\n",
        "  adjective : str = input(\"Enter an adjective: \")\n",
        "  print(f\"Do you {verb} your {adjective} {noun}?\")\n",
        "\n",
        "if __name__ == \"__main__\":\n",
        "  mad_lib()"
      ],
      "metadata": {
        "colab": {
          "base_uri": "https://localhost:8080/"
        },
        "id": "ecxmzICW71H0",
        "outputId": "e43f4e5a-810b-451b-c40e-c795c81b5eaf"
      },
      "execution_count": 27,
      "outputs": [
        {
          "output_type": "stream",
          "name": "stdout",
          "text": [
            "07_tiny_mad_lib\n",
            "\n",
            "Enter a noun: man\n",
            "Enter a verb: good\n",
            "Enter an adjective: cute\n",
            "Do you good your cute man?\n"
          ]
        }
      ]
    }
  ]
}