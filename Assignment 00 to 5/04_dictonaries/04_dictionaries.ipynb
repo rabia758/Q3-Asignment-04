{
  "nbformat": 4,
  "nbformat_minor": 0,
  "metadata": {
    "colab": {
      "provenance": []
    },
    "kernelspec": {
      "name": "python3",
      "display_name": "Python 3"
    },
    "language_info": {
      "name": "python"
    }
  },
  "cells": [
    {
      "cell_type": "markdown",
      "source": [
        "# ***00_count_nums.***"
      ],
      "metadata": {
        "id": "F0MBElBaWsPb"
      }
    },
    {
      "cell_type": "code",
      "execution_count": null,
      "metadata": {
        "colab": {
          "base_uri": "https://localhost:8080/",
          "height": 208
        },
        "id": "0HHqKjPvWQal",
        "outputId": "f9276d19-fc4c-4762-b406-410b32873dff"
      },
      "outputs": [
        {
          "output_type": "display_data",
          "data": {
            "text/plain": [
              "<IPython.core.display.HTML object>"
            ],
            "text/html": [
              "<span style=\"color: blue\">Enter a number (or \"q\" to quit): 5</span>"
            ]
          },
          "metadata": {}
        },
        {
          "output_type": "display_data",
          "data": {
            "text/plain": [
              "<IPython.core.display.HTML object>"
            ],
            "text/html": [
              "<span style=\"color: blue\">Enter a number (or \"q\" to quit): </span>"
            ]
          },
          "metadata": {}
        },
        {
          "output_type": "stream",
          "name": "stdout",
          "text": [
            "q\n",
            "\n",
            "Number counts:\n",
            "5 appears 3 times.\n",
            "8 appears 2 times.\n",
            "9 appears 1 time.\n",
            "0 appears 1 time.\n",
            "7 appears 1 time.\n",
            "6 appears 1 time.\n"
          ]
        }
      ],
      "source": [
        "from IPython.display import display, HTML, clear_output\n",
        "\n",
        "print(\"00_count_nums.\")\n",
        "\n",
        "def get_user_number():\n",
        "    user_numbers = []  # Fixed variable name (was user_number)\n",
        "    while True:\n",
        "        display(HTML('<span style=\"color: blue\">Enter a number (or \"q\" to quit): </span>'))\n",
        "        user_input = input()\n",
        "\n",
        "        if user_input.lower() == \"q\":\n",
        "            break\n",
        "\n",
        "        try:\n",
        "            clear_output()\n",
        "            display(HTML(f'<span style=\"color: blue\">Enter a number (or \"q\" to quit): {user_input}</span>'))\n",
        "            num = int(user_input)\n",
        "            user_numbers.append(num)\n",
        "        except ValueError:\n",
        "            clear_output()\n",
        "            print(\"Please enter a valid number or 'q' to quit\")\n",
        "\n",
        "    return user_numbers\n",
        "\n",
        "def count_nums(num_lst):\n",
        "    \"\"\"\n",
        "    Counts occurrences of each number in the list\n",
        "    Returns a dictionary with numbers as keys and counts as values\n",
        "    \"\"\"\n",
        "    num_dict = {}\n",
        "    for num in num_lst:\n",
        "        num_dict[num] = num_dict.get(num, 0) + 1\n",
        "    return num_dict\n",
        "\n",
        "def print_counts(num_dict):\n",
        "    \"\"\"\n",
        "    Prints the count for each number in a user-friendly format\n",
        "    \"\"\"\n",
        "    for num, count in num_dict.items():\n",
        "        print(f\"{num} appears {count} time{'s' if count != 1 else ''}.\")\n",
        "\n",
        "def main():\n",
        "    \"\"\"\n",
        "    Main program flow:\n",
        "    1. Gets numbers from user\n",
        "    2. Counts occurrences\n",
        "    3. Prints results\n",
        "    \"\"\"\n",
        "    print(\"Enter numbers to count. Press 'q' when done.\")\n",
        "    user_numbers = get_user_number()\n",
        "    if user_numbers:  # Only proceed if numbers were entered\n",
        "        num_dict = count_nums(user_numbers)\n",
        "        print(\"\\nNumber counts:\")\n",
        "        print_counts(num_dict)\n",
        "    else:\n",
        "        print(\"No numbers were entered.\")\n",
        "\n",
        "if __name__ == '__main__':\n",
        "    main()"
      ]
    },
    {
      "cell_type": "markdown",
      "source": [
        "# ***01_phonebook***"
      ],
      "metadata": {
        "id": "CV28IOn1cdez"
      }
    },
    {
      "cell_type": "code",
      "source": [
        "print(\"01_phonebook\")\n",
        "def read_phone_numbers():\n",
        "\n",
        "    phonebook = {}\n",
        "\n",
        "    while True:\n",
        "        name = input(\"Enter a name to add phonebook (or 'q' to quit): \")\n",
        "        if name == \"q\":\n",
        "            break\n",
        "        number = input(\"Enter a number to add phonebok (or 'q' to quit): \")\n",
        "        phonebook[name] = number\n",
        "\n",
        "    return phonebook\n",
        "\n",
        "\n",
        "def print_phonebook(phonebook):\n",
        "    \"\"\"\n",
        "    Prints out all the names/numbers in the phonebook.\n",
        "    \"\"\"\n",
        "    for name in phonebook:\n",
        "        print(str(name) + \" -> \" + str(phonebook[name]))\n",
        "\n",
        "\n",
        "def lookup_numbers(phonebook):\n",
        "    \"\"\"\n",
        "    Allow the user to lookup phone numbers in the phonebook\n",
        "    by looking up the number associated with a name.\n",
        "    \"\"\"\n",
        "    while True:\n",
        "        name = input(\"Enter name to lookup (or 'q' to quit): \")\n",
        "        if name == \"q\":\n",
        "            print(\"Thankyou for using this!\")\n",
        "            break\n",
        "        if name not in phonebook:\n",
        "            print(name + \" is not in the phonebook\")\n",
        "        else:\n",
        "            print(phonebook[name])\n",
        "\n",
        "\n",
        "def main():\n",
        "    phonebook = read_phone_numbers()\n",
        "    print_phonebook(phonebook)\n",
        "    lookup_numbers(phonebook)\n",
        "\n",
        "\n",
        "\n",
        "if __name__ == '__main__':\n",
        "    main()"
      ],
      "metadata": {
        "colab": {
          "base_uri": "https://localhost:8080/"
        },
        "id": "_-gCe3GEeRPl",
        "outputId": "1a58bcd9-cdd2-4b5b-b01d-ed88beffcfa7"
      },
      "execution_count": null,
      "outputs": [
        {
          "output_type": "stream",
          "name": "stdout",
          "text": [
            "01_phonebook\n",
            "Enter a name to add phonebook (or 'q' to quit): rabia\n",
            "Enter a number to add phonebok (or 'q' to quit): 1234567\n",
            "Enter a name to add phonebook (or 'q' to quit): asad\n",
            "Enter a number to add phonebok (or 'q' to quit): 34567890\n",
            "Enter a name to add phonebook (or 'q' to quit): bilal\n",
            "Enter a number to add phonebok (or 'q' to quit): 09876543\n",
            "Enter a name to add phonebook (or 'q' to quit): q\n",
            "rabia -> 1234567\n",
            "asad -> 34567890\n",
            "bilal -> 09876543\n",
            "Enter name to lookup (or 'q' to quit): bilal\n",
            "09876543\n",
            "Enter name to lookup (or 'q' to quit): q\n",
            "Thankyou for using this!\n"
          ]
        }
      ]
    },
    {
      "cell_type": "markdown",
      "source": [
        "# ***02_pop_up_shop***"
      ],
      "metadata": {
        "id": "kJYeeozLgWr8"
      }
    },
    {
      "cell_type": "code",
      "source": [
        "from IPython.display import display, HTML, clear_output\n",
        "\n",
        "print(\"02_pop_up_shop\")\n",
        "\n",
        "def fruits():\n",
        "    fruits = {\"apple\": 120, \"banana\": 100, \"Grapes\": 150, \"melon\": 300, \"Orange\": 100}\n",
        "    total_cost = 0\n",
        "\n",
        "    for fruit_name, price in fruits.items():\n",
        "        while True:\n",
        "            try:\n",
        "                # Display bold italic prompt\n",
        "                display(HTML(f'<span style=\"font-weight: bold; font-style: italic\">How many {fruit_name} do you want to buy? </span>'))\n",
        "\n",
        "                # Get user input\n",
        "                amount_input = input()\n",
        "\n",
        "                # Clear and display bold italic input\n",
        "                clear_output()\n",
        "                display(HTML(\n",
        "                    f'<span style=\"font-weight: bold; font-style: italic\">'\n",
        "                    f'How many {fruit_name} do you want to buy? {amount_input}'\n",
        "                    f'</span>'\n",
        "                ))\n",
        "\n",
        "                amount_bought = int(amount_input)\n",
        "                if amount_bought < 0:\n",
        "                    raise ValueError(\"Negative quantity\")\n",
        "                total_cost += (price * amount_bought)\n",
        "                break\n",
        "\n",
        "            except ValueError:\n",
        "                clear_output()\n",
        "                print(\"Please enter a valid positive number\")\n",
        "\n",
        "    print(f\"\\nYour total cost is ${total_cost}\")\n",
        "\n",
        "if __name__ == \"__main__\":\n",
        "    fruits()"
      ],
      "metadata": {
        "colab": {
          "base_uri": "https://localhost:8080/",
          "height": 69
        },
        "id": "hrG7QXgmgZYM",
        "outputId": "f5778232-7075-42a3-a46c-7442742040ed"
      },
      "execution_count": 6,
      "outputs": [
        {
          "output_type": "display_data",
          "data": {
            "text/plain": [
              "<IPython.core.display.HTML object>"
            ],
            "text/html": [
              "<span style=\"font-weight: bold; font-style: italic\">How many Orange do you want to buy? 2</span>"
            ]
          },
          "metadata": {}
        },
        {
          "output_type": "stream",
          "name": "stdout",
          "text": [
            "\n",
            "Your total cost is $2460\n"
          ]
        }
      ]
    },
    {
      "cell_type": "markdown",
      "source": [
        "# ***03_powerful_passwords***"
      ],
      "metadata": {
        "id": "BTbTpaffSeS-"
      }
    },
    {
      "cell_type": "code",
      "source": [
        "print(\"03_powerful_passwords\")\n",
        "from hashlib import sha256\n",
        "\n",
        "def login(email, stored_logins, password_to_check):\n",
        "    if stored_logins[email] == hash_password(password_to_check):\n",
        "        return True\n",
        "\n",
        "    return False\n",
        "\n",
        "\n",
        "def hash_password(password):\n",
        "    return sha256(password.encode()).hexdigest()\n",
        "\n",
        "def main():\n",
        "    # stored_logins is a dictionary with emails as keys and hashed passwords as values\n",
        "    stored_logins = {\n",
        "        \"example@gmail.com\": \"5e884898da28047151d0e56f8dc6292773603d0d6aabbdd62a11ef721d1542d8\",\n",
        "        \"code_in_placer@cip.org\": \"973607a4ae7b4cf7d96a100b0fb07e8519cc4f70441d41214a9f811577bb06cc\",\n",
        "        \"student@stanford.edu\": \"882c6df720fd99f5eebb1581a1cf975625cea8a160283011c0b9512bb56c95fb\"\n",
        "    }\n",
        "\n",
        "    print(login(\"example@gmail.com\", stored_logins, \"word\"))\n",
        "    print(login(\"example@gmail.com\", stored_logins, \"password\"))\n",
        "\n",
        "    print(login(\"code_in_placer@cip.org\", stored_logins, \"Karel\"))\n",
        "    print(login(\"code_in_placer@cip.org\", stored_logins, \"karel\"))\n",
        "\n",
        "    print(login(\"student@stanford.edu\", stored_logins, \"password\"))\n",
        "    print(login(\"student@stanford.edu\", stored_logins, \"123!456?789\"))\n",
        "\n",
        "\n",
        "if __name__ == '__main__':\n",
        "    main()"
      ],
      "metadata": {
        "colab": {
          "base_uri": "https://localhost:8080/"
        },
        "id": "U-LwEwxWShwv",
        "outputId": "01762553-73d5-4b71-de75-c7ea21fe0d02"
      },
      "execution_count": 7,
      "outputs": [
        {
          "output_type": "stream",
          "name": "stdout",
          "text": [
            "03_powerful_passwords\n",
            "False\n",
            "True\n",
            "False\n",
            "True\n",
            "False\n",
            "True\n"
          ]
        }
      ]
    }
  ]
}