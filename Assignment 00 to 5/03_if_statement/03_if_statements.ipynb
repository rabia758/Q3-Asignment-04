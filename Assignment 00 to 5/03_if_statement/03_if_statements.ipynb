{
  "nbformat": 4,
  "nbformat_minor": 0,
  "metadata": {
    "colab": {
      "provenance": []
    },
    "kernelspec": {
      "name": "python3",
      "display_name": "Python 3"
    },
    "language_info": {
      "name": "python"
    }
  },
  "cells": [
    {
      "cell_type": "markdown",
      "source": [
        "# ***01_print_events***"
      ],
      "metadata": {
        "id": "SysX1m1t2s-W"
      }
    },
    {
      "cell_type": "code",
      "execution_count": null,
      "metadata": {
        "colab": {
          "base_uri": "https://localhost:8080/"
        },
        "id": "yTtd132x2oaR",
        "outputId": "1f6fb1c5-60e0-4b59-80c4-2a7c7bb1db45"
      },
      "outputs": [
        {
          "output_type": "stream",
          "name": "stdout",
          "text": [
            "01_print_events\n",
            "0\n",
            "2\n",
            "4\n",
            "6\n",
            "8\n",
            "10\n",
            "12\n",
            "14\n",
            "16\n",
            "18\n",
            "20\n",
            "22\n",
            "24\n",
            "26\n",
            "28\n",
            "30\n",
            "32\n",
            "34\n",
            "36\n",
            "38\n"
          ]
        }
      ],
      "source": [
        "print(\"01_print_events\")\n",
        "def even():\n",
        "  for i in range(20):\n",
        "    print(i * 2)\n",
        "\n",
        "if __name__ == \"__main__\":\n",
        "  even()\n"
      ]
    },
    {
      "cell_type": "markdown",
      "source": [
        "# ***02_international_voting_age***"
      ],
      "metadata": {
        "id": "-peEIORg3lYR"
      }
    },
    {
      "cell_type": "code",
      "source": [
        "from IPython.display import display, HTML, clear_output\n",
        "\n",
        "print(\"02_international_voting_age\")\n",
        "PETURKSBOUIPO_AGE = 16\n",
        "STANLAU_AGE = 25\n",
        "MAYENGUA_AGE = 48\n",
        "\n",
        "def voting_age():\n",
        "    # Display blue prompt\n",
        "    display(HTML('<span style=\"color: blue\">How old are you? </span>'))\n",
        "\n",
        "    # Get user input\n",
        "    user_age = input()\n",
        "\n",
        "    # Clear the output and display the blue input value\n",
        "    clear_output()\n",
        "    display(HTML(f'<span style=\"color: blue\">How old are you? {user_age}</span>'))\n",
        "\n",
        "    try:\n",
        "        user_age = int(user_age)\n",
        "\n",
        "        # Check voting eligibility for each country\n",
        "        countries = [\n",
        "            (\"Peturksbouipo\", PETURKSBOUIPO_AGE),\n",
        "            (\"Stanlau\", STANLAU_AGE),\n",
        "            (\"Mayengua\", MAYENGUA_AGE)\n",
        "        ]\n",
        "\n",
        "        for country, age in countries:\n",
        "            if user_age >= age:\n",
        "                print(f\"You can vote in {country} (voting age: {age}).\")\n",
        "            else:\n",
        "                print(f\"You cannot vote in {country} (voting age: {age}).\")\n",
        "\n",
        "    except ValueError:\n",
        "        print(\"Please enter a valid number for your age.\")\n",
        "\n",
        "if __name__ == \"__main__\":\n",
        "    voting_age()"
      ],
      "metadata": {
        "colab": {
          "base_uri": "https://localhost:8080/",
          "height": 86
        },
        "id": "fDcu3pzk3tqo",
        "outputId": "b79779f5-399d-4830-d5df-4bcf9141ea83"
      },
      "execution_count": null,
      "outputs": [
        {
          "output_type": "display_data",
          "data": {
            "text/plain": [
              "<IPython.core.display.HTML object>"
            ],
            "text/html": [
              "<span style=\"color: blue\">How old are you? 30</span>"
            ]
          },
          "metadata": {}
        },
        {
          "output_type": "stream",
          "name": "stdout",
          "text": [
            "You can vote in Peturksbouipo (voting age: 16).\n",
            "You can vote in Stanlau (voting age: 25).\n",
            "You cannot vote in Mayengua (voting age: 48).\n"
          ]
        }
      ]
    },
    {
      "cell_type": "markdown",
      "source": [
        "# ***03_leap_year***"
      ],
      "metadata": {
        "id": "-sfqY58H8ZYG"
      }
    },
    {
      "cell_type": "code",
      "source": [
        "print(\"03_leap_year\")\n",
        "\n",
        "def leap_year():\n",
        "  year = int(input('Please input a year: '))\n",
        "  if year % 4 == 0:  # Checking whether the provided year is evenly divisibly by 4\n",
        "        if year % 100 == 0:  # Checking whether the provided year is evenly divisibly by 100\n",
        "            if year % 400 == 0:  # Checking whether the provided year is evenly divisibly by 400\n",
        "                print(\"That's a leap year!\")\n",
        "            else:  # (Not divisible by 400)\n",
        "                print(\"That's not a leap year.\")\n",
        "        else:  # (Not divisible by 100)\n",
        "            print(\"That's a leap year!\")\n",
        "  else:  # (Not divisible by 4)\n",
        "        print(\"That's not a leap year.\")\n",
        "\n",
        "if __name__ == \"__main__\":\n",
        "  leap_year()\n",
        "\n"
      ],
      "metadata": {
        "id": "lpflnqEW8fxB",
        "colab": {
          "base_uri": "https://localhost:8080/"
        },
        "outputId": "5c44be5d-a660-4f51-c577-4e0e2cfa9f67"
      },
      "execution_count": 4,
      "outputs": [
        {
          "output_type": "stream",
          "name": "stdout",
          "text": [
            "03_leap_year\n",
            "Please input a year: 4\n",
            "That's a leap year!\n"
          ]
        }
      ]
    },
    {
      "cell_type": "markdown",
      "source": [
        "# ***04_tall_enough_to_ride***"
      ],
      "metadata": {
        "id": "tfNQUJfJOhdU"
      }
    },
    {
      "cell_type": "code",
      "source": [
        "from IPython.display import display, HTML, clear_output\n",
        "\n",
        "print(\"04_tall_enough_to_ride\")\n",
        "MINIMUM_HEIGHT = 50\n",
        "\n",
        "def ride():\n",
        "    while True:\n",
        "      # Display italic prompt\n",
        "        display(HTML('<span style=\"font-style: italic\">How tall are you? (cm) </span>'))\n",
        "\n",
        "        # Get user input\n",
        "        height_input = input()\n",
        "\n",
        "        # Exit if empty input\n",
        "        if not height_input.strip():\n",
        "            print(\"Goodbye!\")\n",
        "            break\n",
        "\n",
        "        try:\n",
        "            # Clear and display italic input\n",
        "            clear_output()\n",
        "            display(HTML(\n",
        "                f'<span style=\"font-style: bold\">'\n",
        "                f'How tall are you? (cm) {height_input}'\n",
        "                f'</span>'\n",
        "            ))\n",
        "\n",
        "            height = float(height_input)\n",
        "            if height >= MINIMUM_HEIGHT:\n",
        "                print(\"You're tall enough to ride!\")\n",
        "            else:\n",
        "                print(\"You're not tall enough to ride, but maybe next year!\")\n",
        "\n",
        "        except ValueError:\n",
        "            clear_output()\n",
        "            print(\"Please enter a valid height in centimeters.\")\n",
        "\n",
        "if __name__ == \"__main__\":\n",
        "    ride()"
      ],
      "metadata": {
        "colab": {
          "base_uri": "https://localhost:8080/",
          "height": 104
        },
        "id": "j6iLvbSBOpVD",
        "outputId": "b148641b-a806-461c-c18f-2d8386cf33cb"
      },
      "execution_count": 9,
      "outputs": [
        {
          "output_type": "display_data",
          "data": {
            "text/plain": [
              "<IPython.core.display.HTML object>"
            ],
            "text/html": [
              "<span style=\"font-style: bold\">How tall are you? (cm) 45</span>"
            ]
          },
          "metadata": {}
        },
        {
          "output_type": "stream",
          "name": "stdout",
          "text": [
            "You're not tall enough to ride, but maybe next year!\n"
          ]
        },
        {
          "output_type": "display_data",
          "data": {
            "text/plain": [
              "<IPython.core.display.HTML object>"
            ],
            "text/html": [
              "<span style=\"font-style: italic\">How tall are you? (cm) </span>"
            ]
          },
          "metadata": {}
        },
        {
          "output_type": "stream",
          "name": "stdout",
          "text": [
            "\n",
            "Goodbye!\n"
          ]
        }
      ]
    },
    {
      "cell_type": "markdown",
      "source": [
        "# ***05_random_numbers***"
      ],
      "metadata": {
        "id": "R5VzbZn3UF-M"
      }
    },
    {
      "cell_type": "code",
      "source": [
        "import random\n",
        "print(\"05_random_numbers\")\n",
        "\n",
        "N_NUMBERS : int = 10\n",
        "MIN_VALUE : int = 1\n",
        "MAX_VALUE : int = 100\n",
        "\n",
        "for i in range(1,100):\n",
        "  print(random.randint(MIN_VALUE, MAX_VALUE))\n",
        "  if i == N_NUMBERS:\n",
        "    break\n",
        "\n",
        "\n",
        "\n",
        "\n",
        "\n",
        "\n",
        "\n"
      ],
      "metadata": {
        "colab": {
          "base_uri": "https://localhost:8080/"
        },
        "id": "I4wuRiruUM0p",
        "outputId": "5400b02c-f7fb-418c-e11b-8c72c82d78cb"
      },
      "execution_count": 14,
      "outputs": [
        {
          "output_type": "stream",
          "name": "stdout",
          "text": [
            "05_random_numbers\n",
            "19\n",
            "100\n",
            "49\n",
            "78\n",
            "29\n",
            "90\n",
            "69\n",
            "42\n",
            "42\n",
            "75\n"
          ]
        }
      ]
    }
  ]
}