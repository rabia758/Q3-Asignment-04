{
  "nbformat": 4,
  "nbformat_minor": 0,
  "metadata": {
    "colab": {
      "provenance": []
    },
    "kernelspec": {
      "name": "python3",
      "display_name": "Python 3"
    },
    "language_info": {
      "name": "python"
    }
  },
  "cells": [
    {
      "cell_type": "markdown",
      "source": [
        "# *00_guess_my_number*"
      ],
      "metadata": {
        "id": "5ZDYBizMUYex"
      }
    },
    {
      "cell_type": "code",
      "execution_count": null,
      "metadata": {
        "id": "c9wX6OOAUPsY",
        "colab": {
          "base_uri": "https://localhost:8080/"
        },
        "outputId": "7a76a28e-7a97-4106-b102-ab714622b180"
      },
      "outputs": [
        {
          "output_type": "stream",
          "name": "stdout",
          "text": [
            "00_guess_my_number\n",
            "\n",
            "I am thinking of a number between 0 to 99! \n",
            "\n",
            "What is your guess number? 5\n",
            "you guess is to low! \n",
            "\n",
            "Enter a new guess number? 67\n",
            "you guess is to low! \n",
            "\n",
            "Enter a new guess number? 89\n",
            "you guess is to low! \n",
            "\n",
            "Enter a new guess number? 90\n",
            "you guess is to low! \n",
            "\n",
            "Enter a new guess number? 99\n",
            "you guess is to high! \n",
            "\n",
            "Enter a new guess number? 98\n",
            "you guess is to high! \n",
            "\n",
            "Enter a new guess number? 96\n",
            "you guess is to high! \n",
            "\n",
            "Enter a new guess number? 93\n",
            "you guess is to high! \n",
            "\n",
            "Enter a new guess number? 91\n",
            "you guess is to low! \n",
            "\n",
            "Enter a new guess number? 92\n",
            "Congrats! the guess number was 92\n"
          ]
        }
      ],
      "source": [
        "import random\n",
        "print(\"00_guess_my_number\")\n",
        "def guess_my_number():\n",
        "    answer = random.randint(1,99)\n",
        "    print(\"\\nI am thinking of a number between 0 to 99! \")\n",
        "    #get user guess number\n",
        "    guess= int(input(\"\\nWhat is your guess number? \"))\n",
        "\n",
        "    while guess != answer:\n",
        "      if guess < answer:\n",
        "        print(\"you guess is to low! \")\n",
        "      else:\n",
        "        print(\"you guess is to high! \")\n",
        "      print()\n",
        "      guess = int(input(\"Enter a new guess number? \"))\n",
        "\n",
        "    print(\"Congrats! the guess number was \" + str(answer))\n",
        "\n",
        "if __name__ == \"__main__\":\n",
        "    guess_my_number()\n",
        "\n",
        "\n"
      ]
    },
    {
      "cell_type": "markdown",
      "source": [
        "# ***01_fibonacci***"
      ],
      "metadata": {
        "id": "z5YYfsVF_aLZ"
      }
    },
    {
      "cell_type": "code",
      "source": [
        "print(\"01_fibonacci\")\n",
        "MAX_TERM_VALUE : int = 10000\n",
        "\n",
        "def main():\n",
        "    curr_term = 0  # The 0th Fibonacci Number\n",
        "    next_term = 1  # The 1st Fibonacci Number\n",
        "    while curr_term <= MAX_TERM_VALUE:\n",
        "        print(curr_term)\n",
        "        term_after_next = curr_term + next_term\n",
        "        curr_term = next_term\n",
        "        next_term = term_after_next\n",
        "\n",
        "if __name__ == '__main__':\n",
        "    main()\n"
      ],
      "metadata": {
        "colab": {
          "base_uri": "https://localhost:8080/"
        },
        "id": "Lkedbm4L_g-4",
        "outputId": "1c3434bd-9da6-42d8-8f96-1b5408296e20"
      },
      "execution_count": null,
      "outputs": [
        {
          "output_type": "stream",
          "name": "stdout",
          "text": [
            "01_fibonacci\n",
            "0\n",
            "1\n",
            "1\n",
            "2\n",
            "3\n",
            "5\n",
            "8\n",
            "13\n",
            "21\n",
            "34\n",
            "55\n",
            "89\n",
            "144\n",
            "233\n",
            "377\n",
            "610\n",
            "987\n",
            "1597\n",
            "2584\n",
            "4181\n",
            "6765\n"
          ]
        }
      ]
    },
    {
      "cell_type": "markdown",
      "source": [
        "# ***02_print_events***"
      ],
      "metadata": {
        "id": "3bVO5Qh2APTp"
      }
    },
    {
      "cell_type": "code",
      "source": [
        "print(\"02_print_events\")\n",
        "def even():\n",
        "  for i in range(1,20):\n",
        "    print(i * 2)\n",
        "if __name__==\"__main__\":\n",
        "  even()"
      ],
      "metadata": {
        "colab": {
          "base_uri": "https://localhost:8080/"
        },
        "id": "uRiMUZtwAWGH",
        "outputId": "31291db1-294c-4eff-c72a-3cfc87da482a"
      },
      "execution_count": null,
      "outputs": [
        {
          "output_type": "stream",
          "name": "stdout",
          "text": [
            "02_print_events\n",
            "2\n",
            "4\n",
            "6\n",
            "8\n",
            "10\n",
            "12\n",
            "14\n",
            "16\n",
            "18\n",
            "20\n",
            "22\n",
            "24\n",
            "26\n",
            "28\n",
            "30\n",
            "32\n",
            "34\n",
            "36\n",
            "38\n"
          ]
        }
      ]
    },
    {
      "cell_type": "markdown",
      "source": [
        "# ***03_wholesome_machine***"
      ],
      "metadata": {
        "id": "xEBlGdolA7hD"
      }
    },
    {
      "cell_type": "code",
      "source": [
        "from IPython.display import display, HTML, clear_output\n",
        "\n",
        "print(\"03_wholesome_machine\")\n",
        "AFFIRMATION = \"I am capable of doing anything I put my mind to.\"\n",
        "\n",
        "def main():\n",
        "    # Initial prompt\n",
        "    display(HTML('<span style=\"color: blue\">\\n Please type the following affirmation: ' + AFFIRMATION + '</span>'))\n",
        "    user_input = input()\n",
        "\n",
        "    while True:\n",
        "        clear_output()\n",
        "        # Display blue input\n",
        "        display(HTML(f'<span style=\"color: blue\">You typed: {user_input}</span>'))\n",
        "\n",
        "        if user_input == AFFIRMATION:\n",
        "            print(\"\\nThat's right! \" + AFFIRMATION)\n",
        "            break\n",
        "        else:\n",
        "            # Show error and prompt again in blue\n",
        "            print(\"\\nThat was not the affirmation!\")\n",
        "            display(HTML('<span style=\"color: blue\">Please try again: ' + AFFIRMATION + '</span>'))\n",
        "            user_input = input()\n",
        "\n",
        "if __name__ == \"__main__\":\n",
        "    main()"
      ],
      "metadata": {
        "id": "d_JqP9qAA-kE",
        "colab": {
          "base_uri": "https://localhost:8080/",
          "height": 69
        },
        "outputId": "341b671a-551d-4a45-ff8f-f22257ba718d"
      },
      "execution_count": 13,
      "outputs": [
        {
          "output_type": "display_data",
          "data": {
            "text/plain": [
              "<IPython.core.display.HTML object>"
            ],
            "text/html": [
              "<span style=\"color: blue\">You typed: I am capable of doing anything I put my mind to.</span>"
            ]
          },
          "metadata": {}
        },
        {
          "output_type": "stream",
          "name": "stdout",
          "text": [
            "\n",
            "That's right! I am capable of doing anything I put my mind to.\n"
          ]
        }
      ]
    },
    {
      "cell_type": "markdown",
      "source": [
        "# ***04_liftoff***"
      ],
      "metadata": {
        "id": "LzzLqLA0GUfa"
      }
    },
    {
      "cell_type": "code",
      "source": [
        "print(\"04_liftoff\")\n",
        "for i in range(-10, -0):\n",
        "  print(i)\n",
        "  if i == -1:\n",
        "    print(\"Liftoff!\")\n"
      ],
      "metadata": {
        "colab": {
          "base_uri": "https://localhost:8080/"
        },
        "id": "ELhr2bmUGUBx",
        "outputId": "3e2dd112-bb00-4d7f-95e9-f4ed1a84473b"
      },
      "execution_count": 27,
      "outputs": [
        {
          "output_type": "stream",
          "name": "stdout",
          "text": [
            "04_liftoff\n",
            "-10\n",
            "-9\n",
            "-8\n",
            "-7\n",
            "-6\n",
            "-5\n",
            "-4\n",
            "-3\n",
            "-2\n",
            "-1\n",
            "Liftoff!\n"
          ]
        }
      ]
    },
    {
      "cell_type": "markdown",
      "source": [
        "# ***05_double_it***"
      ],
      "metadata": {
        "id": "qRqfjy-iH3mC"
      }
    },
    {
      "cell_type": "code",
      "source": [
        "print(\"Double Value Checker\")\n",
        "\n",
        "while True:\n",
        "    try:\n",
        "        # Get user input\n",
        "        num = int(input(\"Enter a number: \"))\n",
        "\n",
        "        # Calculate doubled value\n",
        "        doubled = num * 2\n",
        "\n",
        "        # Display result\n",
        "        print(f\"Double of {num} is {doubled}\")\n",
        "\n",
        "        # Check if doubled value is greater than 100\n",
        "        if doubled > 100:\n",
        "            print(\"Double value exceeds 100. Program stopped.\")\n",
        "            break\n",
        "\n",
        "    except ValueError:\n",
        "        print(\"Please enter a valid number\")"
      ],
      "metadata": {
        "colab": {
          "base_uri": "https://localhost:8080/"
        },
        "id": "JyczxHQoH3Np",
        "outputId": "bada1575-1044-4e2c-901a-eee446a158de"
      },
      "execution_count": 61,
      "outputs": [
        {
          "output_type": "stream",
          "name": "stdout",
          "text": [
            "Double Value Checker\n",
            "Enter a number (double > 100 to stop): 12\n",
            "Double of 12 is 24\n",
            "Enter a number (double > 100 to stop): 23\n",
            "Double of 23 is 46\n",
            "Enter a number (double > 100 to stop): 34\n",
            "Double of 34 is 68\n",
            "Enter a number (double > 100 to stop): 45\n",
            "Double of 45 is 90\n",
            "Enter a number (double > 100 to stop): 54\n",
            "Double of 54 is 108\n",
            "Double value exceeds 100. Program stopped.\n"
          ]
        }
      ]
    }
  ]
}