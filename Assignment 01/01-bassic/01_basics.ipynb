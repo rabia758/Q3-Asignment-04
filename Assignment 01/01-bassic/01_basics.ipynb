{
  "nbformat": 4,
  "nbformat_minor": 0,
  "metadata": {
    "colab": {
      "provenance": []
    },
    "kernelspec": {
      "name": "python3",
      "display_name": "Python 3"
    },
    "language_info": {
      "name": "python"
    }
  },
  "cells": [
    {
      "cell_type": "markdown",
      "source": [
        "# ***00_joke_bot***"
      ],
      "metadata": {
        "id": "SaqB-7K1IZBn"
      }
    },
    {
      "cell_type": "code",
      "execution_count": null,
      "metadata": {
        "colab": {
          "base_uri": "https://localhost:8080/",
          "height": 121
        },
        "id": "Pp46xR-1IR5p",
        "outputId": "11ac29af-a23c-4915-c022-d44bb5fcc991"
      },
      "outputs": [
        {
          "output_type": "stream",
          "name": "stdout",
          "text": [
            "00_joke_bot\n"
          ]
        },
        {
          "output_type": "display_data",
          "data": {
            "text/plain": [
              "<IPython.core.display.HTML object>"
            ],
            "text/html": [
              "<span style=\"color: blue\">What do you want? </span>"
            ]
          },
          "metadata": {}
        },
        {
          "name": "stdout",
          "output_type": "stream",
          "text": [
            "reading book\n"
          ]
        },
        {
          "output_type": "display_data",
          "data": {
            "text/plain": [
              "<IPython.core.display.HTML object>"
            ],
            "text/html": [
              "<span style=\"color: blue\">You said: reading book</span>"
            ]
          },
          "metadata": {}
        },
        {
          "output_type": "stream",
          "name": "stdout",
          "text": [
            "\n",
            "Sorry I only tell jokes.\n"
          ]
        }
      ],
      "source": [
        "from IPython.display import display, HTML\n",
        "\n",
        "print(\"00_joke_bot\")\n",
        "PROMPT = \"What do you want? \"\n",
        "JOKE = \"Here is a joke for you! Sophia is heading out to the grocery store. A programmer tells her: get a liter of milk, and if they have eggs, get 12. Sophia returns with 13 liters of milk. The programmer asks why and Sophia replies: 'because they had eggs'\"\n",
        "SORRY = \"Sorry I only tell jokes.\"\n",
        "\n",
        "def main():\n",
        "    # Display blue prompt\n",
        "    display(HTML(f'<span style=\"color: blue\">{PROMPT}</span>'))\n",
        "\n",
        "    # Get and process user input\n",
        "    user_input = input().strip().lower()\n",
        "\n",
        "    # Display blue input confirmation\n",
        "    display(HTML(f'<span style=\"color: blue\">You said: {user_input}</span>'))\n",
        "\n",
        "    # Check for joke request\n",
        "    if \"joke\" in user_input:\n",
        "        print(\"\\n\" + JOKE)\n",
        "    else:\n",
        "        print(\"\\n\" + SORRY)\n",
        "\n",
        "if __name__ == \"__main__\":\n",
        "    main()"
      ]
    },
    {
      "cell_type": "markdown",
      "source": [
        "# ***01_double_it***"
      ],
      "metadata": {
        "id": "_FS17ibUKrc3"
      }
    },
    {
      "cell_type": "code",
      "source": [
        "print(\"Double Value Checker\")\n",
        "\n",
        "while True:\n",
        "    try:\n",
        "        # Get user input\n",
        "        num = int(input(\"Enter a number: \"))\n",
        "\n",
        "        # Calculate doubled value\n",
        "        doubled = num * 2\n",
        "\n",
        "        # Display result\n",
        "        print(f\"Double of {num} is {doubled}\")\n",
        "\n",
        "        # Check if doubled value is greater than 100\n",
        "        if doubled > 100:\n",
        "            print(\"Double value exceeds 100. Program stopped.\")\n",
        "            break\n",
        "\n",
        "    except ValueError:\n",
        "        print(\"Please enter a valid number\")"
      ],
      "metadata": {
        "id": "A6muyDd-Kq9B",
        "colab": {
          "base_uri": "https://localhost:8080/"
        },
        "outputId": "9c7f946a-0028-4744-b1ee-66796a1148f3"
      },
      "execution_count": null,
      "outputs": [
        {
          "output_type": "stream",
          "name": "stdout",
          "text": [
            "Double Value Checker\n",
            "Enter a number: 5\n",
            "Double of 5 is 10\n",
            "Enter a number: 7\n",
            "Double of 7 is 14\n",
            "Enter a number: 45\n",
            "Double of 45 is 90\n",
            "Enter a number: 54\n",
            "Double of 54 is 108\n",
            "Double value exceeds 100. Program stopped.\n"
          ]
        }
      ]
    },
    {
      "cell_type": "markdown",
      "source": [
        "# ***02_liftoff***"
      ],
      "metadata": {
        "id": "4y_r3ncfLhTT"
      }
    },
    {
      "cell_type": "code",
      "source": [
        "print(\"04_liftoff\")\n",
        "for i in range(-10, -0):\n",
        "  print(i)\n",
        "  if i == -1:\n",
        "    print(\"Liftoff!\")\n"
      ],
      "metadata": {
        "colab": {
          "base_uri": "https://localhost:8080/"
        },
        "id": "C7cKbPtfLg-M",
        "outputId": "0245d2da-4b18-4e4b-bbe4-93fb9a257efc"
      },
      "execution_count": null,
      "outputs": [
        {
          "output_type": "stream",
          "name": "stdout",
          "text": [
            "04_liftoff\n",
            "-10\n",
            "-9\n",
            "-8\n",
            "-7\n",
            "-6\n",
            "-5\n",
            "-4\n",
            "-3\n",
            "-2\n",
            "-1\n",
            "Liftoff!\n"
          ]
        }
      ]
    },
    {
      "cell_type": "markdown",
      "source": [
        "# ***03_guess_my_number***"
      ],
      "metadata": {
        "id": "cyHC_Ng7Lxxn"
      }
    },
    {
      "cell_type": "code",
      "source": [
        "import random\n",
        "print(\"03_guess_my_number\")\n",
        "def guess_my_number():\n",
        "    answer = random.randint(1,99)\n",
        "    print(\"\\nI am thinking of a number between 0 to 99! \")\n",
        "    #get user guess number\n",
        "    guess= int(input(\"\\nWhat is your guess number? \"))\n",
        "\n",
        "    while guess != answer:\n",
        "      if guess < answer:\n",
        "        print(\"you guess is to low! \")\n",
        "      else:\n",
        "        print(\"you guess is to high! \")\n",
        "      print()\n",
        "      guess = int(input(\"Enter a new guess number? \"))\n",
        "\n",
        "    print(\"Congrats! the guess number was \" + str(answer))\n",
        "\n",
        "if __name__ == \"__main__\":\n",
        "    guess_my_number()\n",
        "\n",
        "\n"
      ],
      "metadata": {
        "colab": {
          "base_uri": "https://localhost:8080/"
        },
        "id": "WBSWy7cOLxdf",
        "outputId": "7e69277f-09fc-4db2-e2e8-836a137d5fce"
      },
      "execution_count": 13,
      "outputs": [
        {
          "output_type": "stream",
          "name": "stdout",
          "text": [
            "03_guess_my_number\n",
            "\n",
            "I am thinking of a number between 0 to 99! \n",
            "\n",
            "What is your guess number? 54\n",
            "you guess is to high! \n",
            "\n",
            "Enter a new guess number? 53\n",
            "you guess is to high! \n",
            "\n",
            "Enter a new guess number? 45\n",
            "you guess is to low! \n",
            "\n",
            "Enter a new guess number? 49\n",
            "you guess is to low! \n",
            "\n",
            "Enter a new guess number? 50\n",
            "Congrats! the guess number was 50\n"
          ]
        }
      ]
    },
    {
      "cell_type": "markdown",
      "source": [
        "# ***04_random_numbers***"
      ],
      "metadata": {
        "id": "QJSacBL8MNAV"
      }
    },
    {
      "cell_type": "code",
      "source": [
        "import random\n",
        "print(\"04_random_numbers\")\n",
        "\n",
        "N_NUMBERS : int = 10\n",
        "MIN_VALUE : int = 1\n",
        "MAX_VALUE : int = 100\n",
        "\n",
        "for i in range(1,100):\n",
        "  print(random.randint(MIN_VALUE, MAX_VALUE))\n",
        "  if i == N_NUMBERS:\n",
        "    break\n",
        "\n",
        "\n",
        "\n",
        "\n",
        "\n",
        "\n",
        "\n"
      ],
      "metadata": {
        "id": "NMI1xSPKMMTO",
        "colab": {
          "base_uri": "https://localhost:8080/"
        },
        "outputId": "0d07fa03-e844-45be-bc29-cbb93d4d3c15"
      },
      "execution_count": 12,
      "outputs": [
        {
          "output_type": "stream",
          "name": "stdout",
          "text": [
            "04_random_numbers\n",
            "22\n",
            "6\n",
            "7\n",
            "55\n",
            "81\n",
            "13\n",
            "20\n",
            "81\n",
            "37\n",
            "58\n"
          ]
        }
      ]
    }
  ]
}