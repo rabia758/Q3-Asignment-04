{
  "nbformat": 4,
  "nbformat_minor": 0,
  "metadata": {
    "colab": {
      "provenance": []
    },
    "kernelspec": {
      "name": "python3",
      "display_name": "Python 3"
    },
    "language_info": {
      "name": "python"
    }
  },
  "cells": [
    {
      "cell_type": "markdown",
      "source": [
        "# ***Control Flow for Console***"
      ],
      "metadata": {
        "id": "ZLTVHQOzX3es"
      }
    },
    {
      "cell_type": "code",
      "execution_count": 1,
      "metadata": {
        "colab": {
          "base_uri": "https://localhost:8080/"
        },
        "id": "TVhBLHU3X1Ox",
        "outputId": "e4629455-d925-4090-8ef5-8d5e8477c093"
      },
      "outputs": [
        {
          "output_type": "stream",
          "name": "stdout",
          "text": [
            "Control Flow for Console\n",
            "Welcome to the High-Low Game!\n",
            "--------------------------------\n",
            "Round 1\n",
            "Your number is 38\n",
            "Do you think your number is higher or lower than the computer's?: higher\n",
            "Aww, that's incorrect. The computer's number was 82\n",
            "Your score is now 0\n",
            "\n",
            "Round 2\n",
            "Your number is 88\n",
            "Do you think your number is higher or lower than the computer's?: higher\n",
            "You were right! The computer's number was 80\n",
            "Your score is now 1\n",
            "\n",
            "Round 3\n",
            "Your number is 57\n",
            "Do you think your number is higher or lower than the computer's?: low\n",
            "Please enter either higher or lower: lower\n",
            "Aww, that's incorrect. The computer's number was 33\n",
            "Your score is now 1\n",
            "\n",
            "Round 4\n",
            "Your number is 97\n",
            "Do you think your number is higher or lower than the computer's?: higher\n",
            "You were right! The computer's number was 3\n",
            "Your score is now 2\n",
            "\n",
            "Round 5\n",
            "Your number is 70\n",
            "Do you think your number is higher or lower than the computer's?: higher\n",
            "You were right! The computer's number was 43\n",
            "Your score is now 3\n",
            "\n",
            "Your final score is 3\n",
            "Good job, you played really well!\n"
          ]
        }
      ],
      "source": [
        "import random\n",
        "print(\"Control Flow for Console\")\n",
        "\n",
        "NUM_ROUNDS = 5\n",
        "\n",
        "def main():\n",
        "    print(\"Welcome to the High-Low Game!\")\n",
        "    print('--------------------------------')\n",
        "\n",
        "    # Milestone 5: keep track of your score\n",
        "    your_score = 0\n",
        "\n",
        "    # Milestone 4: Play multiple rounds\n",
        "    for i in range(NUM_ROUNDS):\n",
        "        print(\"Round\", i + 1)\n",
        "        # Milestone 1: Generate the random numbers and print them out\n",
        "        computer_num = random.randint(1, 100)\n",
        "        your_num = random.randint(1, 100)\n",
        "        print(\"Your number is\", your_num)\n",
        "\n",
        "        # Milestone 2: Get user input for their choice\n",
        "        choice = input(\"Do you think your number is higher or lower than the computer's?: \")\n",
        "\n",
        "        # Extension 1: Make sure the player inputs a valid choice (higher or lower)\n",
        "        while choice != \"higher\" and choice != \"lower\":\n",
        "            choice = input(\"Please enter either higher or lower: \")\n",
        "\n",
        "        # Milestone 3: Map out all the ways to win the round\n",
        "        higher_and_correct = choice == \"higher\" and your_num > computer_num\n",
        "        lower_and_correct = choice == \"lower\" and your_num < computer_num\n",
        "\n",
        "        if higher_and_correct or lower_and_correct:\n",
        "            print(\"You were right! The computer's number was\", computer_num)\n",
        "            # Milestone 5: keep track of your score\n",
        "            your_score += 1\n",
        "        else:\n",
        "            print(\"Aww, that's incorrect. The computer's number was\", computer_num)\n",
        "\n",
        "        # Milestone 5: keep track of your score\n",
        "        print(\"Your score is now\", your_score)\n",
        "        print()\n",
        "\n",
        "    # Extension 2: Conditional ending messages based on performance\n",
        "    print(\"Your final score is\", your_score)\n",
        "\n",
        "    if your_score == NUM_ROUNDS:\n",
        "        print(\"Wow! You played perfectly!\")\n",
        "    elif your_score > NUM_ROUNDS // 2:\n",
        "        print(\"Good job, you played really well!\")\n",
        "    else:\n",
        "        print(\"Better luck next time!\")\n",
        "\n",
        "if __name__ == \"__main__\":\n",
        "    main()\n"
      ]
    },
    {
      "cell_type": "markdown",
      "source": [
        "# ***Intro to Python***"
      ],
      "metadata": {
        "id": "SQ_QlwX3ZQTu"
      }
    },
    {
      "cell_type": "code",
      "source": [
        "from IPython.display import display, HTML\n",
        "\n",
        "print(\"Intro to Python\")\n",
        "MARS_MULTIPLE = 0.378\n",
        "\n",
        "def earth_weight():\n",
        "    # Display blue input prompt\n",
        "    display(HTML('<span style=\"color: blue\">Enter a weight on Earth (kg): </span>'))\n",
        "\n",
        "    try:\n",
        "        # Get and display user input in blue\n",
        "        earth_weight = float(input())\n",
        "        display(HTML(f'<span style=\"color: blue\">Entered: {earth_weight} kg</span>'))\n",
        "\n",
        "        # Calculate Mars weight\n",
        "        mars_weight = earth_weight * MARS_MULTIPLE\n",
        "        rounded_mars_weight = round(mars_weight, 2)\n",
        "\n",
        "        # Display result\n",
        "        print(f'\\nThe equivalent weight on Mars: {rounded_mars_weight} kg')\n",
        "\n",
        "    except ValueError:\n",
        "        print(\"\\nPlease enter a valid number for weight\")\n",
        "\n",
        "if __name__ == \"__main__\":\n",
        "    earth_weight()"
      ],
      "metadata": {
        "colab": {
          "base_uri": "https://localhost:8080/",
          "height": 121
        },
        "id": "8Drr4T3nZP7w",
        "outputId": "8b808201-af75-409a-c9f3-74263efe3e19"
      },
      "execution_count": 15,
      "outputs": [
        {
          "output_type": "stream",
          "name": "stdout",
          "text": [
            "Intro to Python\n"
          ]
        },
        {
          "output_type": "display_data",
          "data": {
            "text/plain": [
              "<IPython.core.display.HTML object>"
            ],
            "text/html": [
              "<span style=\"color: blue\">Enter a weight on Earth (kg): </span>"
            ]
          },
          "metadata": {}
        },
        {
          "name": "stdout",
          "output_type": "stream",
          "text": [
            "23\n"
          ]
        },
        {
          "output_type": "display_data",
          "data": {
            "text/plain": [
              "<IPython.core.display.HTML object>"
            ],
            "text/html": [
              "<span style=\"color: blue\">Entered: 23.0 kg</span>"
            ]
          },
          "metadata": {}
        },
        {
          "output_type": "stream",
          "name": "stdout",
          "text": [
            "\n",
            "The equivalent weight on Mars: 8.69 kg\n"
          ]
        }
      ]
    },
    {
      "cell_type": "code",
      "source": [
        "from IPython.display import display, HTML\n",
        "\n",
        "# Planetary gravity constants (relative to Earth)\n",
        "MERCURY_GRAVITY = 0.376\n",
        "VENUS_GRAVITY = 0.889\n",
        "MARS_GRAVITY = 0.378\n",
        "JUPITER_GRAVITY = 2.36\n",
        "SATURN_GRAVITY = 1.081\n",
        "URANUS_GRAVITY = 0.815\n",
        "NEPTUNE_GRAVITY = 1.14\n",
        "EARTH_GRAVITY = 1.0\n",
        "\n",
        "def main():\n",
        "    # Display blue input prompt\n",
        "    display(HTML('<span style=\"color: blue\">Enter a weight on Earth: </span>'))\n",
        "    earth_weight = float(input())\n",
        "    display(HTML(f'<span style=\"color: blue\">Entered: {earth_weight} lbs</span>'))\n",
        "\n",
        "    # Display blue planet prompt\n",
        "    display(HTML('<span style=\"color: blue\">Enter a planet (Mercury, Venus, Mars, Jupiter, Saturn, Uranus, Neptune): </span>'))\n",
        "    planet = input().strip().title()\n",
        "    display(HTML(f'<span style=\"color: blue\">Selected planet: {planet}</span>'))\n",
        "\n",
        "    # Get gravity constant with error handling\n",
        "    gravity_constants = {\n",
        "        \"Mercury\": MERCURY_GRAVITY,\n",
        "        \"Venus\": VENUS_GRAVITY,\n",
        "        \"Mars\": MARS_GRAVITY,\n",
        "        \"Jupiter\": JUPITER_GRAVITY,\n",
        "        \"Saturn\": SATURN_GRAVITY,\n",
        "        \"Uranus\": URANUS_GRAVITY,\n",
        "        \"Neptune\": NEPTUNE_GRAVITY\n",
        "    }\n",
        "\n",
        "    if planet not in gravity_constants:\n",
        "        print(\"\\nError: Please enter a valid planet from the list\")\n",
        "        return\n",
        "\n",
        "    # Calculate and display result\n",
        "    planetary_weight = earth_weight * gravity_constants[planet]\n",
        "    print(f\"\\nThe equivalent weight on {planet}: {round(planetary_weight, 2)} lbs\")\n",
        "\n",
        "if __name__ == \"__main__\":\n",
        "    main()"
      ],
      "metadata": {
        "colab": {
          "base_uri": "https://localhost:8080/",
          "height": 156
        },
        "id": "BmM9I-mrbMEi",
        "outputId": "651c91b3-9925-4dce-9dcb-42c0839caf27"
      },
      "execution_count": 10,
      "outputs": [
        {
          "output_type": "display_data",
          "data": {
            "text/plain": [
              "<IPython.core.display.HTML object>"
            ],
            "text/html": [
              "<span style=\"color: blue\">Enter a weight on Earth: </span>"
            ]
          },
          "metadata": {}
        },
        {
          "name": "stdout",
          "output_type": "stream",
          "text": [
            "23\n"
          ]
        },
        {
          "output_type": "display_data",
          "data": {
            "text/plain": [
              "<IPython.core.display.HTML object>"
            ],
            "text/html": [
              "<span style=\"color: blue\">Entered: 23.0 lbs</span>"
            ]
          },
          "metadata": {}
        },
        {
          "output_type": "display_data",
          "data": {
            "text/plain": [
              "<IPython.core.display.HTML object>"
            ],
            "text/html": [
              "<span style=\"color: blue\">Enter a planet (Mercury, Venus, Mars, Jupiter, Saturn, Uranus, Neptune): </span>"
            ]
          },
          "metadata": {}
        },
        {
          "name": "stdout",
          "output_type": "stream",
          "text": [
            "jupiter\n"
          ]
        },
        {
          "output_type": "display_data",
          "data": {
            "text/plain": [
              "<IPython.core.display.HTML object>"
            ],
            "text/html": [
              "<span style=\"color: blue\">Selected planet: Jupiter</span>"
            ]
          },
          "metadata": {}
        },
        {
          "output_type": "stream",
          "name": "stdout",
          "text": [
            "\n",
            "The equivalent weight on Jupiter: 54.28 lbs\n"
          ]
        }
      ]
    },
    {
      "cell_type": "markdown",
      "source": [
        "# ***Lists and Dicts***"
      ],
      "metadata": {
        "id": "AzeUc0sqfzjM"
      }
    },
    {
      "cell_type": "code",
      "source": [
        "print(\"List Practice Solution\")\n",
        "def fruit_list():\n",
        "  fruit = [\"apple\", \"banana\", \"cherry\",\"orange\",\"grapes\"]\n",
        "  print(fruit)\n",
        "  length_list = len(fruit)\n",
        "  print(length_list)\n",
        "  fruit.append(\"pineapple\")\n",
        "  print(fruit)\n",
        "  for fruit in fruit:\n",
        "    print(fruit)\n",
        "\n",
        "if __name__ == \"__main__\":\n",
        "  fruit_list()"
      ],
      "metadata": {
        "colab": {
          "base_uri": "https://localhost:8080/"
        },
        "id": "pKy9FzZgfzLX",
        "outputId": "81bce60f-2aed-4062-d369-65b2eb89934b"
      },
      "execution_count": 16,
      "outputs": [
        {
          "output_type": "stream",
          "name": "stdout",
          "text": [
            "List Practice Solution\n",
            "['apple', 'banana', 'cherry', 'orange', 'grapes']\n",
            "5\n",
            "['apple', 'banana', 'cherry', 'orange', 'grapes', 'pineapple']\n",
            "apple\n",
            "banana\n",
            "cherry\n",
            "orange\n",
            "grapes\n",
            "pineapple\n"
          ]
        }
      ]
    },
    {
      "cell_type": "code",
      "source": [
        "print(\"index Game\")\n",
        "def access_element(lst, index):\n",
        "    try:\n",
        "        return lst[index]\n",
        "    except IndexError:\n",
        "        return \"Index out of range.\"\n",
        "\n",
        "def modify_element(lst, index, new_value):\n",
        "    try:\n",
        "        lst[index] = new_value\n",
        "        return lst\n",
        "    except IndexError:\n",
        "        return \"Index out of range.\"\n",
        "\n",
        "def slice_list(lst, start, end):\n",
        "    try:\n",
        "        return lst[start:end]\n",
        "    except IndexError:\n",
        "        return \"Invalid indices.\"\n",
        "\n",
        "def index_game():\n",
        "    lst = [1, 2, 3, 4, 5]  # Example list\n",
        "    print(\"Current list:\", lst)\n",
        "    print(\"Choose an operation: access, modify, slice\")\n",
        "    operation = input(\"Enter operation: \")\n",
        "\n",
        "    if operation == \"access\":\n",
        "        index = int(input(\"Enter index to access: \"))\n",
        "        print(access_element(lst, index))\n",
        "    elif operation == \"modify\":\n",
        "        index = int(input(\"Enter index to modify: \"))\n",
        "        new_value = input(\"Enter new value: \")\n",
        "        print(modify_element(lst, index, new_value))\n",
        "    elif operation == \"slice\":\n",
        "        start = int(input(\"Enter start index: \"))\n",
        "        end = int(input(\"Enter end index: \"))\n",
        "        print(slice_list(lst, start, end))\n",
        "    else:\n",
        "        print(\"Invalid operation.\")\n",
        "\n",
        "index_game()\n"
      ],
      "metadata": {
        "colab": {
          "base_uri": "https://localhost:8080/"
        },
        "id": "xauFc9JChUZF",
        "outputId": "a4570d5f-124a-482b-d85c-40f1d67a150e"
      },
      "execution_count": 17,
      "outputs": [
        {
          "output_type": "stream",
          "name": "stdout",
          "text": [
            "index Game\n",
            "Current list: [1, 2, 3, 4, 5]\n",
            "Choose an operation: access, modify, slice\n",
            "Enter operation: access\n",
            "Enter index to access: 3\n",
            "4\n"
          ]
        }
      ]
    }
  ]
}